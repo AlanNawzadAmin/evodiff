{
 "cells": [
  {
   "attachments": {},
   "cell_type": "markdown",
   "metadata": {},
   "source": [
    "# EvoDiff\n",
    "\n",
    "In this work, we train and evaluate a series of discrete diffusion models for both unconditional and conditional generation of single protein sequences as well as multiple sequence alignments (MSAs). We test both order-agnostic autoregressive diffusion and discrete denoising diffusion probabilistic models for protein sequence generation; formulate unique, bio-inspired corruption schemes for both classes of models; and evaluate the quality of generated samples for fidelity, diversity, and structural plausibility.\n",
    "\n",
    "To download and run our code, first open this notebook in a clean conda environment. We recommend creating it with python ```v3.8.5```. You can do so by running ```conda create --name evodiff python=3.8.5```. In that new environment, to download our code, run:"
   ]
  },
  {
   "cell_type": "code",
   "execution_count": null,
   "metadata": {},
   "outputs": [],
   "source": [
    "import sys\n",
    "!{sys.executable} -m pip install evodiff"
   ]
  },
  {
   "cell_type": "markdown",
   "metadata": {},
   "source": [
    "You will also need to install PyTorch. We tested our models on `v2.0.1`. Change the below line to install the pytorch version that works for your system."
   ]
  },
  {
   "cell_type": "code",
   "execution_count": null,
   "metadata": {},
   "outputs": [],
   "source": [
    "conda install pytorch torchvision torchaudio cpuonly -c pytorch"
   ]
  },
  {
   "cell_type": "markdown",
   "metadata": {},
   "source": [
    "You also need PyTorch Geometric and PyTorch Scatter installed"
   ]
  },
  {
   "cell_type": "code",
   "execution_count": null,
   "metadata": {},
   "outputs": [],
   "source": [
    "conda install pyg -c pyg"
   ]
  },
  {
   "cell_type": "code",
   "execution_count": null,
   "metadata": {},
   "outputs": [],
   "source": [
    "conda install -c conda-forge torch-scatter"
   ]
  },
  {
   "attachments": {},
   "cell_type": "markdown",
   "metadata": {},
   "source": [
    "## Download model from zenodo\n",
    "\n",
    "#### Example to download OAAR 38M model\n"
   ]
  },
  {
   "cell_type": "code",
   "execution_count": 4,
   "metadata": {},
   "outputs": [],
   "source": [
    "from evodiff.pretrained import OA_AR_38M\n",
    "\n",
    "checkpoint = OA_AR_38M()\n",
    "model, collater, tokenizer, scheme = checkpoint"
   ]
  },
  {
   "attachments": {},
   "cell_type": "markdown",
   "metadata": {},
   "source": [
    "## Unconditional generation\n",
    "\n",
    "#### To generate one sequence, run:"
   ]
  },
  {
   "cell_type": "code",
   "execution_count": null,
   "metadata": {},
   "outputs": [],
   "source": [
    "from evodiff.generate import generate_oaardm\n",
    "\n",
    "seq_len = 100\n",
    "i_sample, i_string = generate_oaardm(model, tokenizer, seq_len, batch_size=1, device='cpu')\n",
    "print(\"Generated string:\", i_string)"
   ]
  },
  {
   "attachments": {},
   "cell_type": "markdown",
   "metadata": {},
   "source": [
    "## Conditional generation\n"
   ]
  },
  {
   "cell_type": "markdown",
   "metadata": {},
   "source": [
    "#### If you wish to generate a sequence, you can either generate a scaffold structure that supports a desired motif or an IDR. \n",
    "\n",
    "In this notebook, we provide the scaffold example. Please view the README in the examples folder for information on generating an IDR. Note that the IDR generation pulls from a database that specifies much of the information you need to manually specify in the scaffold setting."
   ]
  },
  {
   "cell_type": "markdown",
   "metadata": {},
   "source": [
    "#### We provide PDB files in the examples folder. You can use the following code segment to visualize the various PDB files and pick one."
   ]
  },
  {
   "cell_type": "code",
   "execution_count": 6,
   "metadata": {},
   "outputs": [],
   "source": [
    "# Specify PDB code\n",
    "pdb = '1prw' "
   ]
  },
  {
   "cell_type": "code",
   "execution_count": null,
   "metadata": {},
   "outputs": [],
   "source": [
    "!{sys.executable} -m pip install py3Dmol\n",
    "\n",
    "import py3Dmol\n",
    "\n",
    "view = py3Dmol.view(js='https://3dmol.org/build/3Dmol.js')\n",
    "view.addModel(open(pdb+'.pdb','r').read(),'pdb')\n",
    "\n",
    "view.setStyle({'cartoon': {'colorscheme': {'prop':'b','gradient': 'roygb','min':0.5,'max':0.9}}}) # as color is set to lDDT\n",
    "# view.setStyle({'cartoon': {'color':'spectrum'}})\n",
    "\n",
    "view.zoomTo()\n",
    "view.show()"
   ]
  },
  {
   "cell_type": "markdown",
   "metadata": {},
   "source": [
    "#### To conditionally generate a sequence, first specify the following arguments (see examples in the README)"
   ]
  },
  {
   "cell_type": "code",
   "execution_count": 46,
   "metadata": {},
   "outputs": [],
   "source": [
    "# If using cond_task = scaffold, need to specify pdb code and start & end indices for the motif being scaffolded. If defining multiple motifs, supply the start and end -idx motif as a new argument ex: --start-idx 3 --end-idx 10 --start-idx 20 --end-idx 25 (indexes are inclusive of both start and end values).\n",
    "\n",
    "start_idx = [15, 51]\n",
    "end_idx = [34, 70]\n",
    "\n",
    "# WARNING: PDBs are OFTEN indexed at a number that is not 0. If your PDB file begins at 4 and the motif you want to query is residues 5 to 10, as defined by the PDB, your inputs to this code should be --start-idx 1 and --end-idx 6\n",
    "\n",
    "pdb_code = '1prw'\n",
    "num_seqs = 3 # Number of sequences generated per scaffold length\n",
    "scaffold_min = 50 # Minimum scaffold length\n",
    "scaffold_max = 100 # Maximum scaffold length\n",
    "\n",
    "data_top_dir = './' # Change this filepath to represent where this notebook exists for you locally"
   ]
  },
  {
   "cell_type": "code",
   "execution_count": null,
   "metadata": {},
   "outputs": [],
   "source": [
    "from evodiff.conditional_generation import generate_scaffold\n",
    "import pandas as pd\n",
    "import random\n",
    "\n",
    "strings = []\n",
    "start_idxs = []\n",
    "end_idxs = []\n",
    "scaffold_lengths = []\n",
    "\n",
    "for i in range(num_seqs):\n",
    "    scaffold_length = random.randint(scaffold_min, scaffold_max)\n",
    "\n",
    "    string, new_start_idx, new_end_idx = generate_scaffold(model, pdb_code, start_idx, end_idx, scaffold_length, data_top_dir, tokenizer, device='cpu')\n",
    "\n",
    "    strings.append(string)\n",
    "    start_idxs.append(new_start_idx)\n",
    "    end_idxs.append(new_end_idx)\n",
    "    scaffold_lengths.append(scaffold_length)\n",
    "\n",
    "\n",
    "save_df = pd.DataFrame(list(zip(strings, start_idxs, end_idxs, scaffold_lengths)), columns=['seqs', 'start_idxs', 'end_idxs', 'scaffold_length'])\n",
    "\n",
    "\n",
    "# The following files are saved to the examples/ folder for ease of viewing the generated sequences\n",
    "\n",
    "save_df.to_csv('motif_df.csv', index=True)\n",
    "\n",
    "with open('generated_samples_string.csv', 'w') as f:\n",
    "    for _s in strings:\n",
    "        f.write(_s[0]+\"\\n\")\n",
    "with open('generated_samples_string.fasta', 'w') as f:\n",
    "    for i, _s in enumerate(strings):\n",
    "        f.write(\">SEQUENCE_\" + str(i) + \"\\n\" + str(_s[0]) + \"\\n\")"
   ]
  },
  {
   "cell_type": "markdown",
   "metadata": {},
   "source": [
    "#### To conditionally generate an MSA, run the following code (see examples in the README)\n",
    "\n",
    "Note that when conditionally generating an MSA, you can specify query_only = True. By setting this flag to true, you only generate the query sequence. If it is false, then you generate the alignment too."
   ]
  },
  {
   "cell_type": "code",
   "execution_count": null,
   "metadata": {},
   "outputs": [],
   "source": [
    "from evodiff.pretrained import MSA_OA_AR_MAXSUB\n",
    "from evodiff.conditional_generation_msa import generate_scaffold_msa\n",
    "\n",
    "checkpoint = MSA_OA_AR_MAXSUB()\n",
    "model, collater, tokenizer, scheme = checkpoint\n",
    "\n",
    "selection_type = 'MaxHamming'\n",
    "mask_id = checkpoint[2].mask_id\n",
    "pad_id = checkpoint[2].pad_id\n",
    "\n",
    "start_idx = [15, 51]\n",
    "end_idx = [34, 70]\n",
    "\n",
    "num_seqs = 1 # Number of sequences generated per scaffold length\n",
    "model_type = msa_oa_ar_maxsub\n",
    "pdb_code = '1prw'\n",
    "data_top_dir = './' # Change this filepath to represent where this notebook exists for you locally\n",
    "query_only_flag = True\n",
    "\n",
    "strings = []\n",
    "start_idxs = []\n",
    "end_idxs = []\n",
    "seq_lengths = []\n",
    "\n",
    "for i in range(num_seqs): # no batching\n",
    "    string, new_start_idx, new_end_idx, seq_len = generate_scaffold_msa(model_type, model, pdb_code, start_idx, end_idx, data_top_dir, tokenizer, query_only = query_only_flag, device='cpu', mask = mask_id, pad = pad_id)\n",
    "\n",
    "    strings.append(string)\n",
    "    start_idxs.append(new_start_idx)\n",
    "    end_idxs.append(new_end_idx)\n",
    "    seq_lengths.append(seq_len)\n",
    "\n",
    "\n",
    "save_df = pd.DataFrame(list(zip(strings, start_idxs, end_idxs, seq_lengths)), columns=['seqs', 'start_idxs', 'end_idxs', 'seq_lengths'])\n",
    "save_df.to_csv('MSA_motif_df.csv', index=True)\n",
    "\n",
    "with open('MSA_generated_samples_string.csv', 'w') as f:\n",
    "    for _s in strings:\n",
    "        f.write(_s[0]+\"\\n\")\n",
    "with open('MSA_generated_samples_string.fasta', 'w') as f:\n",
    "    for i, _s in enumerate(strings):\n",
    "        f.write(\">SEQUENCE_\" + str(i) + \"\\n\" + str(_s[0]) + \"\\n\")"
   ]
  },
  {
   "attachments": {},
   "cell_type": "markdown",
   "metadata": {},
   "source": [
    "If you would like to analyze the generated structure by comparing it to the original using the RMSD score, look at the analysis/rmsd_analysis.py script"
   ]
  }
 ],
 "metadata": {
  "kernelspec": {
   "display_name": "msr_env",
   "language": "python",
   "name": "python3"
  },
  "language_info": {
   "codemirror_mode": {
    "name": "ipython",
    "version": 3
   },
   "file_extension": ".py",
   "mimetype": "text/x-python",
   "name": "python",
   "nbconvert_exporter": "python",
   "pygments_lexer": "ipython3",
   "version": "3.8.5"
  },
  "orig_nbformat": 4
 },
 "nbformat": 4,
 "nbformat_minor": 2
}
