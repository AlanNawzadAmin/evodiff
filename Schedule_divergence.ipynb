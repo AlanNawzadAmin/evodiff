{
 "cells": [
  {
   "cell_type": "code",
   "execution_count": 1,
   "id": "2e70e872-043f-4866-b515-75d6662f55b9",
   "metadata": {},
   "outputs": [],
   "source": [
    "import numpy as np\n",
    "import argparse\n",
    "import torch\n",
    "import os\n",
    "import glob\n",
    "import random\n",
    "from evodiff.utils import Tokenizer\n",
    "import pathlib\n",
    "from sequence_models.datasets import UniRefDataset\n",
    "from tqdm import tqdm\n",
    "from evodiff.plot import aa_reconstruction_parity_plot\n",
    "import pandas as pd\n",
    "from evodiff.pretrained import CARP_38M, CARP_640M, D3PM_BLOSUM_38M, D3PM_BLOSUM_640M, D3PM_UNIFORM_38M, D3PM_UNIFORM_640M,\\\n",
    "                           OA_DM_640M, OA_DM_38M, LR_AR_38M, LR_AR_640M, ESM1b_650M\n",
    "from matplotlib import pyplot as plt\n",
    "\n",
    "home = str(pathlib.Path.home())"
   ]
  },
  {
   "cell_type": "code",
   "execution_count": 2,
   "id": "cb0585d1-6029-4c17-a42f-e47ea2a86b0a",
   "metadata": {},
   "outputs": [
    {
     "name": "stdout",
     "output_type": "stream",
     "text": [
      "sohl-dickstein\n"
     ]
    },
    {
     "name": "stderr",
     "output_type": "stream",
     "text": [
      "Downloading: \"https://zenodo.org/record/8045076/files/d3pm-uniform-640M.tar?download=1\" to /home/aa11803/.cache/torch/hub/checkpoints/d3pm-uniform-640M.tar\n",
      "100%|██████████████████████████████████████| 7.19G/7.19G [03:48<00:00, 33.8MB/s]\n"
     ]
    }
   ],
   "source": [
    "checkpoint = D3PM_UNIFORM_640M(return_all=True)\n",
    "d3pm=True\n",
    "model, collater, tokenizer, scheme, timestep, Q_bar, Q = checkpoint\n",
    "\n",
    "torch.cuda.set_device(0)\n",
    "device = torch.device('cuda:' + str(0))\n",
    "model = model.eval().to(device)"
   ]
  },
  {
   "cell_type": "code",
   "execution_count": 3,
   "id": "17269fb4-b54f-49c8-acce-d13a421bf510",
   "metadata": {},
   "outputs": [],
   "source": [
    "data = UniRefDataset('data/uniref50/', 'train', structure=False, max_len=2048)\n",
    "data_valid = UniRefDataset('data/uniref50/', 'test', structure=False, max_len=2048)"
   ]
  },
  {
   "cell_type": "code",
   "execution_count": 4,
   "id": "8db9ffeb-c70c-4913-a97b-eaf5927c0d15",
   "metadata": {},
   "outputs": [
    {
     "data": {
      "text/plain": [
       "('MPEMIDDANLLAGLSAAASVDVEFANDPWKVLLVDDEPDVHHVLRLALHELHIDGRGLRLIDAFSAEQAKHELAAHPDIALILLDVVMETDRAGLDLVRHIRDELARRTVQIVLITGQPGYAPQRQVVSDYQIDGYLLKSELSAERVFVAVHSAIRTCRLMREQESLQADLQQKVRELDQTLVVLRESEDKLIRAQSVAHVGSWTYELASDEMHLSAETCRIFGLPAGTRGSYRSYLERVCADDRQAVEEVWRAALADGAVFQHEHRIIVGETLRHVRQQADLTRAADGTPLRCLGTTQDITERKQAEQELKRSNAELEQFSYAISHDLRQPLRMVASYLQLLGIGLAGQLDDEQREHFKFAIEGARRLDQMLVALLEYSRVGRLGEPPTWLETRAIVDEALLFLQPAIAEAQAKISVRGHWPRAWVRPDEILRLLQNLIANAAKFRVAGRRPEIRVASRVARAQWCLTVSDNGVGINRGQIGRLFQVFQRLQSRASYEGSGVGLALCRKIAEHHGGSIWADSPGEGQGSRFCVSLPLPRESA',)"
      ]
     },
     "execution_count": 4,
     "metadata": {},
     "output_type": "execute_result"
    }
   ],
   "source": [
    "next(iter(data))"
   ]
  },
  {
   "cell_type": "code",
   "execution_count": 53,
   "id": "e1717b36-9196-4354-a5db-a4ddbb97a33e",
   "metadata": {},
   "outputs": [
    {
     "name": "stderr",
     "output_type": "stream",
     "text": [
      "100%|█████████████████████████████████████████| 499/499 [12:53<00:00,  1.55s/it]\n"
     ]
    }
   ],
   "source": [
    "batch_size = 100\n",
    "seq_len = 110\n",
    "timesteps = timestep\n",
    "\n",
    "sample = torch.randint(0, tokenizer.K, (batch_size, seq_len))\n",
    "sample = sample.to(torch.long)\n",
    "sample = sample.to(device)\n",
    "Q = Q.to(device)\n",
    "Q_bar = Q_bar.to(device)\n",
    "\n",
    "timesteps = torch.linspace(timesteps-1,1,int((timesteps-1)/1), dtype=int) # iterate over reverse timesteps\n",
    "timesteps = timesteps.to(device)\n",
    "\n",
    "trace = torch.zeros([timestep, batch_size, seq_len])\n",
    "trace_rate = torch.zeros([timestep, batch_size, seq_len])\n",
    "trace[-1] = sample\n",
    "with torch.no_grad():\n",
    "    for t in tqdm(timesteps):\n",
    "        timesteps = torch.tensor([t] * batch_size)\n",
    "        timesteps = timesteps.to(device)\n",
    "        prediction = model(sample, timesteps)\n",
    "        p = prediction[:, :, :tokenizer.K]  # p_theta_tilde (x_0_tilde | x_t) # Don't predict non-standard AAs\n",
    "        p = torch.nn.functional.softmax(p, dim=-1)  # softmax over categorical probs\n",
    "        p = p.to(torch.float64)\n",
    "        x_tminus1 = sample.clone()\n",
    "        for i, s in enumerate(sample):\n",
    "            x_t_b = tokenizer.one_hot(s)\n",
    "            A = torch.mm(x_t_b, torch.t(Q[t]))  # [P x K]\n",
    "            Q_expand = Q_bar[t-1].unsqueeze(0).expand(A.shape[0], tokenizer.K, tokenizer.K)  # [ P x K x K]\n",
    "            B_pred = torch.mul(p[i].unsqueeze(2), Q_expand)\n",
    "            q_t = torch.mul(A.unsqueeze(1), B_pred)  # [ P x K x K ]\n",
    "            p_theta_marg = torch.bmm(torch.transpose(q_t, 1,2),  p[i].unsqueeze(2)).squeeze()  # this marginalizes over dim=2\n",
    "            p_theta_marg = p_theta_marg / p_theta_marg.sum(axis=1, keepdim=True)\n",
    "            trace_rate[t, i, :] = 1 - (x_t_b * p_theta_marg).sum(-1)\n",
    "            x_tminus1[i] = torch.multinomial(p_theta_marg, num_samples=1).squeeze()\n",
    "        sample = x_tminus1\n",
    "        trace[t-1] = sample\n",
    "\n",
    "# untokenized = [tokenizer.untokenize(s) for s in sample]"
   ]
  },
  {
   "cell_type": "code",
   "execution_count": 19,
   "id": "ddc627de-3080-4367-b361-7f960e6fd80a",
   "metadata": {},
   "outputs": [
    {
     "data": {
      "text/plain": [
       "torch.Size([110, 26])"
      ]
     },
     "execution_count": 19,
     "metadata": {},
     "output_type": "execute_result"
    }
   ],
   "source": [
    "x_t_b.shape"
   ]
  },
  {
   "cell_type": "code",
   "execution_count": 25,
   "id": "a8385741-4a24-416f-ba5a-354e58fda0e1",
   "metadata": {},
   "outputs": [
    {
     "data": {
      "text/plain": [
       "torch.Size([500, 10, 110])"
      ]
     },
     "execution_count": 25,
     "metadata": {},
     "output_type": "execute_result"
    }
   ],
   "source": [
    "trace_rate.shape"
   ]
  },
  {
   "cell_type": "code",
   "execution_count": 56,
   "id": "f9f83479-7636-49a2-989c-73226656fbbd",
   "metadata": {},
   "outputs": [],
   "source": [
    "# diffs = (trace[1:] != trace[:-1]).cpu().numpy().mean(1).mean(-1)\n",
    "# diffs_bwd = (trace[1:] != trace[:-1]).cpu().numpy().mean(1).mean(-1)\n",
    "diffs_bwd = trace_rate.mean(-1).mean(-1)\n",
    "p_muts = np.array([1 - Q[t][0, 0].cpu() for t in np.arange(len(diffs_bwd))])"
   ]
  },
  {
   "cell_type": "code",
   "execution_count": 46,
   "id": "bdc39415-c6e0-434f-baab-ea838692cca5",
   "metadata": {},
   "outputs": [
    {
     "data": {
      "text/plain": [
       "500"
      ]
     },
     "execution_count": 46,
     "metadata": {},
     "output_type": "execute_result"
    }
   ],
   "source": [
    "len(p_muts)"
   ]
  },
  {
   "cell_type": "code",
   "execution_count": 57,
   "id": "29bf4050-c1b2-4c01-9017-7026b6c2bfde",
   "metadata": {},
   "outputs": [
    {
     "data": {
      "text/plain": [
       "<matplotlib.legend.Legend at 0x7f329df1e7f0>"
      ]
     },
     "execution_count": 57,
     "metadata": {},
     "output_type": "execute_result"
    },
    {
     "data": {
      "image/png": "[encoded data removed]",
      "text/plain": [
       "<Figure size 300x300 with 1 Axes>"
      ]
     },
     "metadata": {},
     "output_type": "display_data"
    }
   ],
   "source": [
    "plt.figure(figsize=[3, 3])\n",
    "plt.semilogy(diffs_bwd, label=\"Backward(empirical)\", color='black')\n",
    "plt.plot(p_muts, label=\"Forward(analytic)\", color='blue')\n",
    "plt.xlabel(\"Timestep\")\n",
    "plt.ylabel(\"p(mut)\")\n",
    "# plt.title(\"Uniform\")\n",
    "plt.legend()"
   ]
  },
  {
   "cell_type": "code",
   "execution_count": 47,
   "id": "68a684ab-067f-4efd-9c12-2b717292b5bf",
   "metadata": {},
   "outputs": [
    {
     "data": {
      "text/plain": [
       "<matplotlib.legend.Legend at 0x7f32a42a7100>"
      ]
     },
     "execution_count": 47,
     "metadata": {},
     "output_type": "execute_result"
    },
    {
     "data": {
      "image/png": "[encoded data removed]",
      "text/plain": [
       "<Figure size 300x300 with 1 Axes>"
      ]
     },
     "metadata": {},
     "output_type": "display_data"
    }
   ],
   "source": [
    "plt.figure(figsize=[3, 3])\n",
    "plt.semilogy(diffs_bwd[1:], label=\"Backward(empirical)\", color='black')\n",
    "plt.plot(p_muts, label=\"Forward(analytic)\", color='blue')\n",
    "plt.xlabel(\"Timestep\")\n",
    "plt.ylabel(\"p(mut)\")\n",
    "# plt.title(\"Uniform\")\n",
    "plt.legend()"
   ]
  },
  {
   "cell_type": "code",
   "execution_count": 59,
   "id": "0b3cb51d-9265-48db-972d-c604c70ebdbf",
   "metadata": {},
   "outputs": [
    {
     "name": "stderr",
     "output_type": "stream",
     "text": [
      "/tmp/ipykernel_2684394/3633354853.py:10: UserWarning: To copy construct from a tensor, it is recommended to use sourceTensor.clone().detach() or sourceTensor.clone().detach().requires_grad_(True), rather than torch.tensor(sourceTensor).\n",
      "  plt.plot(ts[:-1], moving_average(torch.tensor(rp - rt))[:-1],\n"
     ]
    },
    {
     "data": {
      "text/plain": [
       "(0.0, 1.0)"
      ]
     },
     "execution_count": 59,
     "metadata": {},
     "output_type": "execute_result"
    },
    {
     "data": {
      "image/png": "[encoded data removed]",
      "text/plain": [
       "<Figure size 700x200 with 1 Axes>"
      ]
     },
     "metadata": {},
     "output_type": "display_data"
    }
   ],
   "source": [
    "rp = diffs_bwd * len(diffs_bwd)\n",
    "rt = p_muts * len(diffs_bwd)\n",
    "ts = np.linspace(0.01, 1, len(diffs_bwd))\n",
    "\n",
    "\n",
    "def moving_average(x, window=9):\n",
    "    return torch.nn.functional.avg_pool1d(x.unsqueeze(0), window, stride=1, padding=window//2).squeeze(0)\n",
    "plt.figure(figsize=[7, 2])\n",
    "plt.plot(ts, 0*ts, color='black', ls='--')\n",
    "plt.plot(ts[:-1], moving_average(torch.tensor(rp - rt))[:-1],\n",
    "         lw=3, color='blue')\n",
    "plt.ylabel(\"$\\Delta$ Trans. rate\", fontsize=20)\n",
    "plt.xlabel(\"t\", fontsize=20)\n",
    "plt.xticks([0, 1], [0, 1],fontsize=15)\n",
    "plt.yticks(fontsize=15)\n",
    "# plt.ylim(-5, 10)\n",
    "plt.xlim(0, 1)\n",
    "# plt.tight_layout()"
   ]
  },
  {
   "cell_type": "markdown",
   "id": "5535d6b0-23f6-4a4a-9627-8f36da491b18",
   "metadata": {},
   "source": [
    "### forward"
   ]
  },
  {
   "cell_type": "code",
   "execution_count": 125,
   "id": "f9a9a0bf-6f43-44c3-ae6d-75086ba8ce35",
   "metadata": {
    "scrolled": true
   },
   "outputs": [
    {
     "data": {
      "text/plain": [
       "[('MPEMIDDANLLAGLSAAASVDVEFANDPWKVLLVDDEPDVHHVLRLALHELHIDGRGLRLIDAFSAEQAKHELAAHPDIALILLDVVMETDRAGLDLVRHIRDELARRTVQIVLITGQPGYAPQRQVVSDYQIDGYLLKSELSAERVFVAVHSAIRTCRLMREQESLQADLQQKVRELDQTLVVLRESEDKLIRAQSVAHVGSWTYELASDEMHLSAETCRIFGLPAGTRGSYRSYLERVCADDRQAVEEVWRAALADGAVFQHEHRIIVGETLRHVRQQADLTRAADGTPLRCLGTTQDITERKQAEQELKRSNAELEQFSYAISHDLRQPLRMVASYLQLLGIGLAGQLDDEQREHFKFAIEGARRLDQMLVALLEYSRVGRLGEPPTWLETRAIVDEALLFLQPAIAEAQAKISVRGHWPRAWVRPDEILRLLQNLIANAAKFRVAGRRPEIRVASRVARAQWCLTVSDNGVGINRGQIGRLFQVFQRLQSRASYEGSGVGLALCRKIAEHHGGSIWADSPGEGQGSRFCVSLPLPRESA',),\n",
       " ('MTDPDSREVLAAFFPERAGELQEWAAEAAMSRLYGGIHFRSDNSEGLRLGRAVGRRVVERSLGGAGADSGGGRLRPAAQDAAQ',),\n",
       " ('MQADAAYARLREAIVDGQYPAGARLTEVEIAETLGMSRTPVREALRRLAGDGLVRASDRGVIVDLMDEEEAWHARTVRAALDVLVAELAARRQKAGEVSPAALRAAEEAAASARTYLERGDTDEAYRHDQRLHRQIAEIAGNPVALQMLDRLADRLEVARLAAASRAERAKNIEKKVDGIHLVTKVPAAVGAGFDGDVRSGLDLNGHAVNGANGSHGAGADKPGAEGATGSASMKKNGTRSGGTVGDDGMGRLAVPVLSPDLAEEHRRLLDAIAAGQPAAAWLAAREHAHG',),\n",
       " ('MLETLKVKNHTFGLGYQQIMGESAYPLPDGFLPETYFINWNATGFFKEDEKSYHVMYGYDFKDYVPGLNAMVKYVYGHDFNAANGEKNHETESNVILNYAFQQPFLKGVALQYIRIDYNVKHGNDFGEDRLFVNYTKKF',),\n",
       " ('MMKAGRVSRESGPQANQKKRLLALRCCGEAGRIGLTRLFGARSGLELGRETNVSGRCKVIKVLFVCMGNICRSPTAEGVVRQLLRRKELDGRVEVDSAGTHGYHVGEAPDQRTQRAAASRNYDLSDMRARKVAAQDLDYFDLILAMDHNNLSVLQRICPPEKHDRLGLFMSYSKNFDDDEVPDPYYGLGHGFDLVLDMVEDAADGLIESIEQRLLDEVSASSEHPRRNHHDSTS',),\n",
       " ('MHIHGCIEHTLLISESGVYALLVYHYCPNTGACANG',),\n",
       " ('MTIEDQPSGIDPLRTALARAYRAAAESRYLHRLHCVLLMLHGLSSAKVAAWFFHDETTVAGWRRRFERLGTQGLLDQERAGRPSLLDLEQLAELQRCLRRPPAESGFPTATKWQGKLVAAWLQRCYGLYLSLRQCQRLLRDAEKRDAPADARRRTPSRPPLPAATRDSARAIRRSATPP',),\n",
       " ('MPLVPVYSFEELNAILSAGSNAVTNAYQQFRLVFPGRSMMEIGLTDTFITQAQMLSSGNTKDAFFEWSNNENITGSDFVVKVNKNQTTDKFDVLFQAKVAKKEGQDTYADFLYESTKTIGRVKVMEYQNILLAQYAKETSSEA',),\n",
       " ('MDERDDLATLLRTRPPRPLPQADRQRIALMDEMRATRSAARARRWTVGRLRVPAPMLAAGALAATLAVAAAGTTVIGLNNEESVAPGTGDGTTLSAATLADLLRRVDAAADRQPPTVVGATQFLYVRSLDNNNFQPGDPPQNKQEWHSADGTRYGVLDGKATSVDVYESGEQPPAGTPALDAAVLYPDPSRLSGLTNVEPAALLAAINRLSAPGAPAAERAFDRVQTMLDTGGLAFPRVRALLYHVAALIPGVRYDPDGADLLGRRGAVLSLRIDRSSFDLVVDPDTGELLGRRGTAYERYAVVDRIGERPEGAPVGTTPPERPGDRTVRGLDYADETFVVPVDEHFGTASNSDASSLPTLAFQGGVATRRDAEGRTLRYEMVSGRPVAFANLLGRVEGPVLLLRVHTAGLPDAQTAWAVLFLDFSHAEGGPTKLVTWIDPGPDAVSVEASGTTVTVTPAGGVRQRYHWDGDRFTRKN',),\n",
       " ('MPVFAAAGDEGAGRRIMPLEYRSGVVELAQQRLHPAGAQLAAQQCDRIPPCLLRVGCPETRDGFSAQPGGEKDSPQGVQRRPEQRVRRSPEGQDGVADE',),\n",
       " ('MQPDQTSPNAHGIPSDHHLLRRYAACVERTGLGPAFRRRAQQDNAMSQSSDSLNTEASSNGIHGNGLLNAGRIGGNSLTGLSGARSEQQNQFHYHHNHYGSGNFYAATSLDASNSSKHAMGASYEHSNEKSPRTSLEPIHSVTAAVRASAGGETDSDRESQNDGPQVPQIRLPETGPHSSDQSSSSSDSEEDFIVEAWSTEQYIRMIETRGFKATQSFGEILGLLPSHVRHQQDVFELVKSVKEQQCFFENHQTSLPDVIRRVASQSPQKMSHLRTWDNVLERLDELQRVLDAPKLFIGERSKRKLREGAGAEMSVGVDCTRKLKRWRKRIVIANRKYMGTASILIDSHPQDFRKNLTDLSRILADICTESHVSAHLKRCLAEACSRQCHERHIAYLRLAPEEPPTPSNSAVTEGDKAESGSPLSCEATWHLAFKSTISSEPKLTWLKVVSTMLVKSSTFTSSTVRPLVNTGSSDISSFSIKAEARVETATSITQTSRKRRASSSPPEPPLKLQKTTIGQAQIQGSFNHERRNGMEICPEYLTGQEHDNAQHAIIRISDNSGCDLRIFYLPRSFHTEEAQKTTLGAAIGHKLKRKPQKGSGSLHWIVTTARLVAEAVVRFDLRDKDESLENCIIFHEASARIVLLQLGAHRDLIEDLDSPPPGPEDKQFYIIRNAGKAAKGVNETYANAVPDERYHRIPYLVAERDGNVAHALKRGLKRLQILTS',),\n",
       " ('MSKLFAVTGQNNKRNAGKRSVDTEILLREVQSKARDSDRYAISCLSVAEEWVFYRHARYRRANKITDPDLLHTLGDGLAEIINVVNRDEWRTLTDVEVCALGIFHKNLGEDMGIPFDLLPSCKEGWRNGLHFAKELRDWTVEYEEEVCKPVPTNDQYVRVYVDSALSSVPSFLRTTLRKSLGADMDDVVRLSLNLESPGIFLSTFLGLVRNSRKLGLRYLALPRPDSSAVKLVSDTPNPETKLYNFGRKSLQPWYMRPTTWSTWGPGAWLVKAVGGKVPGERGSRYFPQGYDLMTIGPEPQREKGRDEMMSDMEVIKARGALVSELLGGVKMYMWIWLEGTFKRQEKDLIYMASFHSTPPVYVNQTLLHMAPTTQEPACMQMAFLIKVRQITLHKPFCDAAQVVAMSKLTILFATFKVVLDGINGVITVVMADKSVQIVVTASVFLILTWLAVSLRLYCRTTLVRSVGIDDKITVFLLIIFTGYLVLQIYGGTHGIGRRDTEITAGEKRAMMLLWWILELLNVVSTCLLKISVGYFLLRVALDRPHIWIIRALMVGTVVFGTAYLFMVAFQCRPVPTYWEEGPRTPEKCWASRVIYIMTIAATVINTSADFIFGALPWFIVRSMNLPIGTKIVVVCIMGLAAVAFYIPTLLDGEDFLYETSNFAIWSTVEPGIGIVAASIATLRPLYQMVLTKMGRSSIYRQRRDRLERQQARRNETSRMVRQVHNLDPEDGPADSDVTSPHGILEVNPPSHHVSKQTESTVKTSSSGFGSPRLRMSLFDVDVPTSRLRLSDDFRRTMDRSSEEWLSRVKD',),\n",
       " ('MVWTPEAQQDRVDVWEHIAADKPQAAARMDELFSDAVVELAGYPMLGRPRTLPEHPRTDPA',),\n",
       " ('MSPARRYAVLNEQIFRLRGGSPLSLNIAGIDHLATTHTDVMLEAATTSFQVHLQVPAGEATRAYNAAQILAAPLVALSANSPFLFGRALWHETRVPLFEQAVDCCDPGCPQHMRVTFGSGYLTTDPTACFAENLASYAVLLPFEIPGPIESYAHLRLHNGTIWRWNRMLIGFDDGGQPHLRIELRVMPAGPLRVMPAGPSIIDMMANAAFYYGSVFMLTRQTLAPEAQISFAQARENFYLAARYGLDAQLLWFGGQRVSAGELLEQQLLPLARTGLEHLDLSTADVARYLEVIAGRLRNRRNGAAWQLAHHARHHDFARLTADYLDHQRQLMPVHEWPI',),\n",
       " ('MKAITKTLVILTPFLSATAFAGNPIPAEIYQPQGEVVKSERQKDGDFEVEYKVQSKDVRGLAEKATEHAKSQGFTVLESKINNDDADLKFKRGTQELDVDIETKGNHIEYKAELDAKK',),\n",
       " ('MTRYYAKPLVGEEGSYEYHVTRCLEVANNFFKVNRQAIESFCQINGLSCDVMKRICFMAIFLHDLGKLGTSFQNRMEHIVNKVSGKELVYFRHELISALILWQRYEYFGGKYSAEDFPYEIFAVLGHHKGLDKKWQSFEREREKQADKISREALAFALAVEFPHKDLIKELLDGICFDENLFAYREDTNENWVEYFFRHLDKHFKRTSLDRLKDKDRLTRICTFVRGVLCYCDWQASSSGSERLSFSHGYDSEIMESKINAAMLAENGKPFIKRNFQCRCCRKKGNVLAIAPTGSGKTEAALLWATCVASNKIILLMPTKVTSNSLYERMIKYFAEADCGITHSGAAMYLSMSKGDSYGASDEEHGDVFKLLNKYRTFMAPVTVATVDQLLSANFRVGHWYLKEIATLGASVIFDEIHSYDPYMLGLITKSIERIMRMQGRVMVMSATMPRALREHFQDLLGVDEPITADELMGRSNCTWEYTDNSIEGYMAEIKDALAAGRKVAVVVNSIGRAQELYRMWERELEGTELADKIMCYHSAFIMRDRIAKEEKLIGTGKRDEYGRPKEISLIIATQTIEVSLDISFDYMYSELAPLDSLIQRAGRCNRKGNIEGARFIVFPISDVAQKYVYKDAVAIIGKTDEILRKRQGKLSENEIGAMLEDAYQNYSFTDHKDYKTARDNIEVIWDERAPIFDTVDYNEECVTRLISYVKVPIIPQKFYGEVTELCRSGEKKDKLKVALYEVPVGMKTLKLFNNKKCVMPPDLAYLDIYEIPYDEKIGVPSNNDDPLLY',),\n",
       " ('MDERKERELKNYLDLLFWMETASSAEIQGTLAVASGVTKEDLHLAVKCMMESYRPGLARYFPHLKPNRSFLAELRYQHAALAEAMQLLEDSLTQRKHDPSLSHEGMTPPCSEV',),\n",
       " ('MYGFSVSLAAQTASFREPSAHLYQKTYPLPPISTIAGIAGAACGLEFSRAWRYLKENNLYLGVTGSFCGTGIDLWRYNKIAVPKSKEERDSAKKLNLAKILRNDILNREFLYDTKFTLYYAAQNSDFVCRLAEAFKDPGYAISLGNSDDIAMVRSVSDIYEVGTSAATSLKNTVIEGDLSKEVGFDWDALQKTSVSQTLRAPVIGRLIVDFEFNDMERKPKAYQQFTFLFGEHVLRTPRPAHSFCGTNVSLYCIGDRHP',),\n",
       " ('MSLDDFNQEFGVRIESEEVETLAGALLQAFGELPASGAAIERHGLRFTVETLEHNRITRVLVERLPQPAAAAADTGGAAASQETTEDKKGDA',),\n",
       " ('MQKNNKWCSGAILLLSLMAQVSYAEKDISTQPFANIKALSKT',),\n",
       " ('MKQLRRHSSWGSADWEKLNYFYNKVFGSSIKGL',),\n",
       " ('MLAHQFLQRPAFGQLACVPKHNLMRIDADLNGNAAAVVLVHHRIEQGLAQGGHGEQERFHPLQDIVADIGFEVFGAQGVQRLFYLRKQIAVNFVLVAQIIVGDEETQLDKRPWDKAFRILAKQQGSRSLQLLPVFQLQAGQQRGVAIGQHLLIHSSALRGLVPEPLQGRGIAVAQRQARNRHSVPMQPLLAQQESAQRRTSQFLFGAAAAVVVLALVAHRAGVGVNANLDQILAVFGHQIHRHHDAQHIAHLVGNFFQQAGGIGNAHRLAPVIAPDDQNAPLGVGKTADPAQVVVAPGLFPLQVLLLSFQWRVESGQWRVIWHLVILLTF',),\n",
       " ('MDARLKGVSKESLRNEILTDKNASKAEIQEGLRDIDRAYNSNFKDKGL',),\n",
       " ('MHARALLDQLPAVDVVVHAHEAECCGFGGTFSLKHPAISGAMAGDKVDALQETGATTFISADCGCMLNLNHTLQKRGGSLQGQHLASFLWQRCSTDAGEPR',),\n",
       " ('MSKGLHRAGRRRKRPGSRRLGGRAAIVAGAVVLAMIVIGLPLAAAPRTATGSTTDGAAADCVVASVGENLVRIICGITDLSRDGDSVYIGWRTTSGGVRSIYHREGAGHTISVTGYAPTAAGEPPHRVLWRVCRDRQAPWRDTCSEWRTVWATPTAE',),\n",
       " ('MRNKKMTILQSEITVGSEQYQKNKEALLAQLNEVRAIQ',),\n",
       " ('MGYADVFQYAHLAEHGRYLEGAHQPQAGDPAGRQLADGLPLIQIRVADGWQEEGQQIEGRGFAGTVGADQGMDMPLPHLKIDRIHSSEAIELLGQAPGFENDIAHRFPSCLMMVCLAEQPRACLGQP',),\n",
       " ('MPPAERQAESNESSPNNAKATLERHSSLGKVGIRDRIACHTWTWFTMTMATGGMANVIHSLPYQAAWLNGIAVAFFLLNVVLFIMNCALASIRFKSRPGALTHSFTDQTESLFIPSAVVSFAIISINICQFGVPHVGPWLLRIMQILFWFYIALSVLASATIYLILWSTLIFPIHTMTPTWVFPAYPLLLTAPFASNLIQAAVQTNQQVVTLNRTAIALCAVATQGAGCLIAFMISAAFIYRLMTQKLPRDFQRPGVFISIGPFAFTVGGLVQLGNSADKILPSNFLGTDLAVPIIKVMSVLIGLWLWGLSMWFFIVSVGSLWKNMSWDSNSALHRRQSSNAGGSKTLPIHTRKQSEATIQPKSSHVADDFLQSFLDPSFDPAAYLNATLPPLQHGGYHSSRSNGNGQAVPLADLSNEAQTLLSQLNIHTTRLSGTLTQLTDDILRSGSRLAYEVELLRGETLSLAETMNETLQDDIKKFAPSGVDQEAKEAVPKAADGQERRESVGASKTGDDEATVTEGKAETSEPPYINQLRTLTVVRSRLDTVIKTFGDAMEFVFPPSELSVSSSFLSVSAPDPGAEQHSTEEKGQQVLQGLRDEISQLLTKSEDPVKGIEKAAQRIEELKELNKVWKGTAEEKGRTKFIESLAKMVEDRHRDLMREVDQASRRDGNEGRARKGSVHADAAETKTYLGGYGLMSQLQKLRNGL',),\n",
       " ('MLVFVTGASGFIGRKIIEDLLSHGHGVIALVTSDASAEQFKALKITTLVGGLEDSAVLQQGAQLADGVLHFAFIHDFSDFSRGCQVDREAIEAMSEVMAGTQKPLVIASGTLIARHPTMASEDTPYTRDMLAMSERATSSDLLFKLSKEKAIRGMVIRVPPIHGIGDTGMLAGIVNAVRSSGKALYVGSGQARWPSAHRDDAAVLARLVLESGKAGSTYNAVSESGVAWVNIMAVIGKGLGLSPMSGSPSEVKEALGFFADVMSLDNPTSAAMTMKELGWIPTGPELLDDLRANYF',),\n",
       " ('MWSGPPLAVINHVLTGEDWARARLAAFSGQTARVQFSSGQLRFTILESGLLAAADAASPVAVSIRLPDDAPVRALSNRSSLFSAATIAGSVDLAEALAFVFRNLRWDAEHDLSQVLGDIVARRALRLASGLARWHGRSARNLAFGIVEYLTEEEKAIAPRRDVDAFCAEVDALRDDLARVEKRLGRMELLR',),\n",
       " ('MINRAVFVIADGAVPYRNQAVEEYLMRTVEAGSCVLYLWQNQRTVVIGRNQNGRAECRVELLEKDGGYLARRLSGGGAVFHDLGNLNFSFIAADPDYSVARQQGVILAAVRSLGLSAELSGRNDITVGGRKFSGNAFMSSGRRHCHHGTLLISADTSDMAKYLNVDKDKLESKGVRSVRSRVVNLSELDGGITVETMTSALREAFGGEYDVEPENLAVSDLDEALLDSMTQKFASPEWRLEAEPDFVFRRKRRFDWGGAELCLTVSEGNVTAARLFTDALDPDFSETVEKTLTGAAFTTDSLRGALIGTNCREERERMLLDISSLLMEAE',),\n",
       " ('MIMDQEPSAQQPAGALPPALWEFVRLADYRLPNSVGASAALEKWTSFKRLFRYGDEEEQAPVKAEAELRMLSDSRLQALVQPIDWHCAAAALDLALADWLHTSKPDRPVRFVVGQPHCGHPEILAHWAARHRLHRVAAPSVEQILGGDERWREDWPSGDRPWVLPNLEHCYLRHADGLGLVRRLLAQAVSGALGRGVIGCDSWAWVYLQEVWPLPQPDALTLQAFDGARLSRYLGNRVSREKGGCLRFCNAVTGKEIQLACGPDDSKVSPEVNQLAVHSRGNIGVAWTAWRALLRSLPEQERPAEPKPESKKHEQSDEAERAAQGAQADDDFAAETVWVSASLQEPPLPAEKGEGMAFILHALLLHNGLPVSVLPELLPQPEHRIASHLLQLQALGVVDLAGGRWQISASAYSVVREFLRRRGFLRDEF',),\n",
       " ('MSSGIPCWRQPSAVSLRSLADDLCSVPASLAAVPRILSLVTMTLRAVSERKPHKPGDIPGCLQQIQNRPDQPNQANPPFLRPQRHQTRPCLLRRAQPPATTWSAGVTRDGDATGAAPFTSRQNGSVPYPYEVAQVGSSPQ',),\n",
       " ('MLDENLPTFHFRPSSDNPQNTILYFTHQGSDPVPNYVLKRADPANPVARNKYAAALTDIASQQIIYAEVLVEPEWTQPTLSAAEVRVQNGTPAPPQPILPDQVTLQLYNPDSQVVIKMKSGSWGKSDSWEFEMPEQSFRAPSASLLDRSSDDPPISDTVPKVVFRWKRDGRLSKDMTCYMVGKSVAGKKSKEPDITVAMFKDTKHESAVTIYEPNLQRVDVEDRKGLDIVLLLGAEVLRDLFLNPRQNVFNLTATPPPTTGRRKNSKPPPVTMAPAPPAAAMSGAIGNKPASPPAQAMNNGPPRPNARQQWEIDNETKRLQAMVAQEERQARERERRDAEEAKRIKKMLDKEEADRRRKEAEIEAETERLRRLYGVPPSQSNPNLPPRHQPPPGSTPGSWHVAPAQPPRPNSAGPYNGPPGTSAYRPQVRFAQPPPTMSGGASSQPQQQQSQSQQAGRGKLPNLMSGLLQGPYANPAASVSNFFHRDRSEEEEKKRKVAKKRSVHF',),\n",
       " ('MQFSAIFLTVAAFAVGNAFAASVPRSFADGKGNALFGNVGTACSVGAKDGECDRFGRCVQFIPPNEQSVLNQGREVATCTAGGQTGTL',),\n",
       " ('MSGAPDETAQTAENARESAGAAPPATAPPKELPRWRRVLVDTTPLRNVAYRRLFLGQSVAFIGYQLTAVAVPVQMYAITDSSFWVGMLGVAGLVPLILFGLWGGAVADAVDRRTLLLISSVVLWVATGALVVQSLFGVDSPWLLLALTALQSAAFAISGPTRSAIIPRLVPIEQVPSANTLNFTASNFGTVVGPLLAGLILAQWSYAVAYGVDAVLFTFALYAAARLPHLEPIGERVSPGLRAVGQGLAFIALKPVLLMSFAVDIIAMVFAMPRALFPQVANDWYGGGEAVGWLFAAIAIGSVLAGLSSGWIGRVKRQGLALTVAVMGWGLAVAAAGLARSLWLAVALLAVAGAADLVSAVYRQTILQVYAPDEMRGRMQGVFTVVVAGGPRLGDLRAGVTESWFGPTVSWVGGGLVCVVLVALVALAVPKFLRYDGNPRS',),\n",
       " ('MSTTNALFVHYLTDYAFDGAGETAVLETDTISPLNIYGKTKALGK',),\n",
       " ('PFYRWCQTDFVNTCIVILNSIGVTSVTNQTLISACLNVWNLLWAIAAATSVDKLGRRFLFLTSASVMLVSFIIITGLSGSFATTQSSAIGSSVIPFLFIFFAGYDIAMTPFLTAYPCEIWQFSLRSRGLTVTWCSTVIAIFINTFVNPIALEAIHWKYYIVFIVMLALLWITVFFAYPETRGHTLEQMAVIFDGDDAAVPPAAAVSEKTEALVTHGDDEDKRQYQSNAEHRV',),\n",
       " ('MAGCRPLFPCLHRGDRALAARRCADDPRRWRHLRPALGHRHRLLCLVDRCHAGLSRRALPAPRLGRRAFRPTPQGGGRRDSARRPVLSVHAAPDPGLPLLPGQSAARTDGDEGAHLLLGQPGRHARRHRRLRQCRHATGAHRFPRRHRLARPPRLVRAARAVSAAGAQDRRRGAGTQGLRRLAEAAALRPQPGXXXXXXXXXAARASSLPTSPLPSRPG',),\n",
       " ('MTVKRKIVGRTLALLIATVAALATGGVVATPASAGNITGRCTYTSSEPVLRSGSSGTAVRQVQCELNYAMTGVADIAVDGSFGPITDNYVRRFQSCIGLPVDGIVGPNTWKQLNHWAASVGFPC',),\n",
       " ('MSAEEIHALLTMHHLLPKIDIGGLLEPQIRPQLARLTGRLGSADNPAEEVQRRVRIQTVDARELHLDHFQSVGSALLRRKLLLIRYHARGTDEVTEREVSSQRRNHHRGNWYLDTWCHRRDGLRAFSVDAIEHAEILDTRTQDVADERLDEVPGSGYGVFSGERIAWAVLRLTPERARWVAAERWHGNQAGAFLADGSYELRVPYTDDRELIMDIMKFGGDCEVVAPDALRARVAAEFAAGLARYGTSA',),\n",
       " ('MPLPVFGSGAEVVLLTKKVVQALRLFLKNCRNAVTQIDSVKQKLKRVQSVIKHFNECVIEGLLRPDLWKEITEVSNECEQRFESISLALTGYKVDMGSAARFKWASSWKSKMEEQMLELDSYVSHFKDLHSIADRARDWEKVARQEEMPPTMKPANKIETKVIGPTSSTSLPQVTAISTIPYPCSAPKRGSNARQQTSFQPSSPQVVAAANSETRTPAGLPTYNVFNPSSAVSPRVGPRKPTTGAVPRKFPAPSRTQQKQNPTVPTYNPLPVSSRPNPLTTQVPYQHYKPIPTWSEYVDAKYGVGTNGIDLEKYPSVDKPLSTGSLPPRAPPRPSAYNGPAAMNASRATQLGQQTSHPLQTASGPAPKRPTGPGYPPIPPNISQQTAIVPPATGPAPSRYPHIPPTVHKKTAIVPPATGPAPSRYPHIPPTIYP',),\n",
       " ('MMSVFTYNEKLALNEIRLIQLFPGEWLDGLESRLYVADRSHKYQALSYAWGSSKRSNQITVNGKIHKITFNLDRALRAVRRQIEPITLWVDSICIDQDDAAEKGHQVGSMHDIFGSATEVIAYVGDGLDRSRKDYSRRFEKLGENPLTDLGCLDILNSDHTCEKHWDTLKNSEPGSLTEHEEILCLYSLFALLYFNSYDIERNLSESQLQVIIERMRLFAISDWWSRMWIVQEACVARRLTMAYGRALLPFHYVESARMHLQSPKINHPELTRVIRFLAGRVDAISPARRLREEEEETIVGATTSSSLLWLLRRFRHRKSSEPRDKVFALLKLAEDMKSKRPFLHNQLSIQANYEYDVSELFSHATFEIIRHTGLLWMTTPDLLSKSRIDIPSWVPDWSSEHMASGFNQRRYRLQEEASLGFNASRARFCHHPLNSEDRIENLFPRQHLEGLLNDNIAEWKPVHFLPTMIKYTSSPPFEEHRQQSALILKGISCGVVEITSQVIRSDLSNVGQAIAQVQAFYGRKQGRQNHREPFLEAVATCLSMSMQVLSDDDGSLRTLDLDRRRELSYWAFGQYAGALMRVSRYENLLEDFCSAVAACPDGYTVDAIPSTGGSLLRFKASTVPDGDQRQWNDDLDTDESYKIASLPKDYDLLEWTEPEGSSWMEDTVRTMAAGNRLFVTDRGQIGLGPGSMCVGDELCVLEGGLMPYILRKHFGTICTESSRVHQMESIKGVHRYTMVGSCYVDGIMTWGDEAHGWGDSADDIEELDSKLRRRLHAPELAEVAFLLV',),\n",
       " ('MQHNKHSRGLAVSTQSQPKLATDMDTEPLSQIASFKELSFDILAFVSAITNPPTITRDVAESEQDSQRIHELWSGQAAGLSMSTTRDGC',),\n",
       " ('MGVSADGVLLAVDGGNSKTDVAVLDRDGTLLARRRGPGFSPHVLGVAGSVLAVEELARSTLSAIGLGLDPAAVAHTAAYLAGVDLARERREMLAAVTARGWSRSAVVDNDTFAVLRLGSPDGDGVAVVCGAGINCVGVSGSQVVRFPSLGTVSGDWGGGLQLGAEVMSAAARAEDGRGPATGLAAAVTAHFGVDSVLEAIEAFHFGDFPATRFGELSPVVFRSAAQGDAVAGRLVDRLAAEIADYVCASLRRLELRDRATPVVLGGGILAGGDERLLAGVVDRVRPEFPLARFVPVDEPPVIGSALLGLDHLGIAGDGVVRAAFRVAA',),\n",
       " ('MPFSGVIRLGLALLFRNPHPTRKVRDDLSSCQWNCGQLVVNSSHLFSNASRSITSTRQATAIGPLRRPSIYAGFTIAHFLQMAKVMDVNSVDTHSVAESDENLPGTQHLVDNSNVRLSGLSETGLSDTSSVEESRRSSPSPAAWASENPLSPLDELPPRPSRPLFGHRSRNRTADALFRPTRLFQLSLDSQTGYEFGVAQHTWENSYGDYDNHSVITAVRDVDNIHHPIPSHVPGERYCSHTGFSSVSSICAEAREKQKRPEIITEVIEQIDEFLFDLELGDCQEVLAGNHRASDSFIASEEPLPLRIPSKNKPSIHASQPVYPNVEAKPLFTIGEEDNNHGNGPFNQPNLPTTLLWTKYSGFIDPSMVPAPLSIIKRSKVDASRKVKGPATLHSRGNKRPTERRDIEHARRQQTRLHLDSSPLLGPLFDESAFGTPTVPFPPTFEPPQPLFPSPDSVAYLEHEPDQGTDLDTDDISTVIEAPSGATGVSQWDEEDSIDFLLGPIDNTPPPVPPHRVLLQPQRPLLNQGVVLDWPRDSETASGIQDASSHSEVDAPRPRRVRDVDASSNDESDTPCPLRAQDVDARVNAGIDALIYPIVQPESDFVYYEDDSLHEVMTAVSETQATDLDEQLRLLGPVYPSRILLWPLHHPTTGSEPENATQEGDERSQSTPILSTTEELPESPQYFL',),\n",
       " ('MYGTIIIEPRNGETIRVDRDFVVQLSDWTDRDPMQVFAKLKTQSDYYNYHQPTTTTSRRRSSSSAMPRARACRRRSASARCGTKCA',),\n",
       " ('MFTVLVVQGSVAMEEGAAADILTRNSHPVTGHEQRGVGQVLGHSPVDRQFALTHQPPVIDDLPDPAVQREVRWNRRQPLGEPAQLGDRHLGIAVLDVARREERRPVDGHRVLVTGDHRVVEQFATVEVCTIVGDHLVRPLRSQNTLGDELVGVELARSRVLLDLLVHQRLRHHRLVLLVVPELAVADDVDHDVLPEGLAVLHGDAGDQRDCLGVVTIDMEDRRLGHLEDVGAVERRAIVARV',),\n",
       " ('MSKKAPLFLGLTAAGGVGYYLYSAGGNPTAAEKKFESDVHKASAEVKSHLPGRTPDAQNRGAQFGSKVDEAVAEADKKFSATKSNVEAYAKDAKAEALKKVDAFDKTVETEAAKAKSGISSWFGGK',),\n",
       " ('MDWHAADLLPQPPDEAWRMAAGIAIVLLLATLVARLLRLRLARRQPHALLDNLNQRIDTWWLIAIAVGLALVAGRPGVILLFALASLAALREFLAGDVAAAIPRALRWSGFAIILPLQYLLLFTAPGLLFASLVPLCVLLVLPAWQWLRAAHGGPPRHLRPLQLGLLLCVYCIAHVPALLALPVDAGDTQRNGWLLVFLLLVVQVGDVLQYLWGTLAGRHPIAPRLSPAKTVEGTVGGILSACALGAWLAPLTPFTTAAAAMISLLLGVLGFGGGLLLSALKRQRGIKDWGTLLPGHGGMLDRLDSLCLSAPVFYYLLRFGYGG',),\n",
       " ('MQNQIRQLEDGTFKIGTWIQNANGEVVFFDATSAKTLEEANKIADELDDQEFKLAKSEIDMLGGIQGANKVLELMNENEAVAVEFDKNHFDINELKFYNQKDFEQRMDDYLDNGETATYLYADFEIQSLLHKTRFLKF',),\n",
       " ('MAARNSEYLAALRASSEVPSLFSTISFLSPWPARTLPSPTDRFGSGPWPPTATPCNPITLFADEAGISGHEVELRWSALSEEQKAICRARSETLRRETWAQYETAPAERPAPFALPSPGERQQQARNSAGLASRGERVARVPARVGIIKGLGIFRGEHETEWQEVLKRWEALSEEQRQAYETKAATVNAAARAAFEEGRGL',),\n",
       " ('MPALRPGSIDEAAESLRALGGAGTPVRPVGSGSRAGWGGGATGTELHTTGLNRILEHNPGDFTAVLECGVPLADAQKVFASAGQWLALDPSPGGTIGGLVATADSGPARHRYGGVRDLVIGVTLVLSDGTVARSGGKVIKNVAGYDLGKLFTGSFGTLGLVAEVAVRLHPLPSGTATAVATFTDPSALAEAASGLSRRPLEALSLDAAWRAGTGRLLVRFGGVTATSQASRVASGLAGGPEVAVVEDDEPLWEAQRSAQRSPSGAVLKVSHRPTELAAVVRAADAVGATVVSRAALGLSWLAFPDADPDTVATVREQLAPAAVTVLDGGDRVSAPWPDLDAGVVAVQQRVKARFDPARIFRPGTFVGGL',),\n",
       " ('MYSPQWPPTRPAVVQAQPQEREPPGVAPSLIPSHNSNGGGSGGNGSGSRQGTGHPRFGKPPDATGGPVSAAITRGGAASAGPGGGNGGGDIHSSQGGANGGTYPAPAAQQQPAPAPAAGIINPFDLSAAEPSQPRHVLVRVDGDTGFYLGNAVGHPAPQEFSLPTEVDGSRSVANGDQIQTGWSIDYYGLSRSRHEYGNGIGWRCQESEAVADAQGNFGWPRNQIRQMPGGTLDSLGRDAQSTGDPQLHYYLDHEGPGNEPCVRGLCQKCRPVSFLPDSQPTTHCCPPPVAEPGYLKEIYRCIMDNCPFLTDTRREMKAHLHSPRKNGHKSYLTSLAGRIEHSQPLSAIDKEIASRLMLMFNDRDARGQKSISQPINTVLGPEDVSSPAILREHTQWMSYLGLHTPELHRRDFWDPRTGGWYYREYNMDDDFEDACENVRIISHATGRPVKPSDFLWR',),\n",
       " ('MKTTSLFLLVTLVSSGFALSIPSRLSSSLDSRSEVHNAIAPEDILNPVVRPRECEEPAEPEEPSEADRKKGAKRPARPSRPTKC',),\n",
       " ('MATAAAEKRRLLARLGEVDRQAASLDNLRQQIRDAVAEVSAEIAGSATGSDRRILDLLQMNLEELDRSILLMRNAVEAGREFVAQVPE',),\n",
       " ('MSSAAPCFFLAPTWDFPPPPKGPIKLGNVITSVKVPERALFTAPSTEDLRVFGSEQRQVSVSTERRREHQYGVFGKFLSAILGVGGDASVNWEKTIQTIQFLPTSEYLKTCIASQAVQRYLAKSRYRKPIFVITGLKIVTGAKAKSIHTSAVSGECSAEADLTPIGGVPVGVGPNIGSRKGDRKEITWESCNDIVYAYRVRKISVTKKDSSIKKDEDYKKGAMMDSGVNVPKGDSELIILSNGEADPESEGLSREEITDGGEVIICGIP',),\n",
       " ('MRVSRLTVVPVKGLRAEHPASVVVTPTGIVGDRQFFLVDADGKLFSASRTGAFLGARASWSPGFLDVSGVRAPIELGPAVEADFYGLKHVAAHEVLGPWSAYFTERAGQPVRLVHADEPNGGCDVHALTLLGEASVGELASRAGVAPVDSRRFRMSVEFAGGAPHAEDGWAGAEFRAGSVVLRVGGPVPRCAATTRDPDGGATDLKTLHLIKGYRGVTVGELGRGIHFGVYADVVEPGEIRVGDELAPA',),\n",
       " ('MSKYTYKRLNLTPELAKVILENKPTGEGEIYWNREINVYYTKGPRRNALVYCKENDTWRTSVRYNHEIEELVRYIPLSIIANLKK',),\n",
       " ('MLTAVSRSALNHISCDLIWLKNWVKASNLINSDQIVSEFWSC',),\n",
       " ('MRKAPRSLSESRIWLSRCTAVTSTDCTRRMSSRTYWRLPSSGSSALNNWSLVPKNRLPCSSSMIVCSPRRSSNSISCPRRTRFEKRLLPSTLLRMTVLPSCSRMKRNIASAIPTAEAAIRL',),\n",
       " ('MPEQWGGGGMGSLVRPGHDRLRVSGDRAVVAVGDIDRHVRLATAWQERCWCPFVRRQGKE',),\n",
       " ('MLTSRATSFTARHRSAHFRFATICYHKTRSFHATCSVKFSREHDIIVVGAGIAGVCTSIAAAEKGAKVLLLDDAHGGGASALSGGVVYAGGGTRQQREAGYGHDTPENMLAYLKEETGDAVDEKTLRRFCDESVARLEWLEKHGARFEASLCPYKTSYPTNKHYLYFSGNEKSHPFNKVSKPAPRGHRMVQQGFSGSALWQALFDSAIRLGVDFKPASKVQQVLFNGNRDKVSRVEIKTLPDTNSFFQKHKGLTQKTKKFQLMASQLADIYHRKANKIWQEHSTSQTIHSEAVVLSAGGFAFNSEMRQQHLPEFSQVAPLGTNGDDGSGIKIGQTAGGSVSNMNNMSAWRFLYPPTALLEGVVVSQAGERMGAEDVYGAALSDTMIRQNGGKGYLILDSDQWAKAKKQVFQQTNMPLLIQRLHWLYWGYEKAGSLAALAGKFNISADGLGSTVKIYNDAIARGQEDPMHKEADYCSPVSKAPFYGVDISCRTEGIQAVNGLTLGGLRVDGETGLVLTEDGSRIDGLYAAGRSAAGVCANGYVSGLSLADGVFSGKRAGEHAARRS',),\n",
       " ('MSYPPDPYGQPQYGQPPYGQPQYGQPQYPYGNQPPPGPAPYGAPSGYGQLPPPKKSSGGVIAIGIGVALLAVCLVCGIAGAIYLANGGGNEARDTAGPGGERTGRLNEPVKDGDLEWTVKSGECGKTAIDYVKAAQQFCVYQVTVKNTGRAPVPRGLGFYEAYDAAGQMYEFNLLASTTATENDPREFAPGATANLSLVFEVATGATPTKILLRDSTGADGVTVAVR',),\n",
       " ('MKEFLEDLGQKPLTPDVIREYLNQGCEKVKEFEPEAFLIVGIKAEGEDIHSMVVTRFSCLEFVNILNGISRISPEIHQAMCAFSIEMLCDCIEEKDKDDCRDCPDEFRGDKSDA',),\n",
       " ('MTGILKLKPNQLVQHPNGGEVFGVIPAIARLGAVEALIYLKAGMHRIRPGQPAAGYGVQHIWEGKKTELRRRGCTTPEDVPRFVADLIVLGAEIYHDPAHARAAMNRITILRTQDGTLLLEPLPGDRNLGFHYSVVTWTPRAKPMGIQVGTIAKNWA',),\n",
       " ('MTAVSSVYAQRLLMTLFLVSFGIYMFLATVTYTPFDPGWMHISSDTQQVSNASGIAGAWIADLLFGFLGWASLLIPIFLFVEAIQVWWPHSFLYCYIT',),\n",
       " ('MQHRLRAVDVLDKAPDAAEKGEILLLPCALVVEPDLHAIVEKGQFTQAFGNDLVVELYLAEDLLVGHEMQFRSTLLGLSDDPQR',),\n",
       " ('MSPAKKKPGKKQPSSDPLDNDDPNLPVFFHMPQEKWPWRQFCQWYPSVFTVSKQEISALCGREVDPVDPYGSITVTCAEQFMMYCKAAYSGDTERQARIMQEKDPKEQKKLGKSTVGFSDARWDDVKSKVVEMGSIAKFGQNPHLKAILMSTGERLLVEASRTDRIWGIGFKADEAMVNQANWGENRLGKALMETRRLLREEEAQERMGTKPKSEKDEEDQEEETTQDIAHAQYLP',),\n",
       " ('MNKYKAETTVSLLVAVSLFAVIVLVFSRWQSVQNRQLSKQFQQQQAVQILENQIALKLARLECESSLTQNSVYYQIRCSSNQHSISFPLGKIELNND',),\n",
       " ('MQAKREELQAAGELTAAKEAELQAQEAGAQVKKVEAEIAAESAKRLRELADAAMQAGDQAGRMGDSFRRSSGELDNLGDSADRATGKVLRLKDASERPTNLTGSFGGSVGPRGEISGSIDLRDGSVEQTAQERAAGLVNRAVSSQTVDHELVARSLGLSGPAVKAFVGAFGEALGDEMAKLKNKLLGGGETSTEGYLTEYAGSVDRAKARALDEARKAVARDARSQTPASVHRVEIVINGKTTAIDTASPDAAASLIGALKELQGRAA',),\n",
       " ('MLLTEIPRGQSPGGQADKTDKKLVKPTRDREPVLVKPSSVSRQGRPEDAVITVTSLLATGLMSSMIGFGVSGWGIREASRIWIIRLALVLSFSLPSAMPAASFAWRTPTRLRFPFTVHRGPTGLGLLSSASTFSLRPGAALIGSGPDLLECDRTPKASRGGLGRASPSEASEG',),\n",
       " ('MSLLHFVARLAKQIAAQFAADVACRRRMCRQQVGKRFDFGKASGFDGFAEHLLGAALMLVGVEEEFAARYCQGIILWVPPTGGEWSEAHAGEDPRDFTDVGLAVTTAHPHGMQFQQLPGKVFVAAAGGIADVVQVHKHGRVAQYAEEHVAKAAPDMWPNRTVDVIGHRHANQAFLRGDIEMVEPEPDQSFRFGIRAVEAAPQGQIGIALHQFAARAIDLFLRQTTLVTRQPGTCGLFLAKPGDGRGVG',),\n",
       " ('MLAPDAQRSAAPQPSGPASTPVEMQAAGGPGAVSTMTGHSSAIVQMPDGVLVYLKAGNVSIPHGLVRRCIDARA',),\n",
       " ('MARSTGARAFRPAPERPDGEPALPPTDTHGTPSPNEERRGPPLPAQPQAATEPAGPPRGLAKESPRLSKLVSELAQCSRREADEWIENGWVSVDGVVINRLGARVNPKARIAIKEVASAHSTETVSIVFNKPRDCPGPAADEGREAIAALIRADNHWAEDQTPLSFQPTHLRGLAQAGRLEADEGGMLAFTQEGSVARRLSGGDSRLEKEYHVRVEGELAADGLELLRHGLSLDNVKLPRGQVSWLSDQQLRFVLPDGKKGQIQRMCELVGLQVTDIKRVRIGGVSLGKLPPGQWRYLRPDERF',),\n",
       " ('MSNKILCSISHAEGGSDLEQYELRPSRPDVIEGMAQDINLTK',),\n",
       " ('MIPLLLVSFFFTWATYAAQVPRYVAAVHIDRANMTMTAVAVQSGAIFRRQSRDPNTCGYVANKPFTCPNNGSCRSSRDKKHIGCCNEDASSCNIYTACYPGSEQSGASEETISILRCGAIRSHNNTDEHSEDLTDELQSSAFNGGILFCIFHFLCHRAHNKIISSSANIIFFGGHCYAYRKSNFRCPSFFIQSTSRSNPFCVGQAASTAARKRRHARYY',),\n",
       " ('MAIATIASQQAITASPVAAATAAMIGLFAEKGMSQWGLPQILMICVPATLTGVVAAAIVSMFVGKDLRDDAAYQERLRSGQIPAPQSAGERPPLKPAAQLSAFLFLAGVALVVLFGFFPELRRLPGAKSPLGMPIVIEIVMMAVAAIMLMLTRVNVDEVPKTATLRAGVVAVIGIFGLAWLGDSFIAAHKDVIVPAIGHWAEAAPWTFAFGLFFASVLLYSQAATTRALMPLGIALGIPPQFLIAMFPSVNGYFFIPTYGSLIAAINFDLSGTTKIGKYVLNHSFMIPGLVATSVAVTSGLLLARLMF',),\n",
       " ('MKILTLIGIGLVAHYCYKTMKSKKNIKNSDVNLPESEKKLQE',),\n",
       " ('MADVVNQVRLGNRSLVGMMIESNIIAGNQPIPDDLAQLRYGCSVTDACVDWQTTEQMIRNAATLLHDVLPGRRR',),\n",
       " ('MENAHDFRITSDEQSRPQIHHDTTAENPGPMGEVSPMSVFSPSKLGSVQIRQELAIPEKHYTAPQHLLSWPCSPLTLTELDLRYPVALEIQRPKIRRSRALPRCLAGTSSPDDSWLSNLSLAQLRDLADSYFSHFHPQYLVLDEDRFYSHHLNQALRVGFAGSLDSCLVALVLSLGSVAACQTGKAEWVQSDSMDAMLDHEAGLGFFTIACDMFRDVEETGWVSVQCLLLMALYNSSVLRIHDSWRFIHKACSLIMILLPLQAKLEAHHCQLYWLAYLQESQILVEYDFPPSGLSSLESAVPLPLLPDSGADSQGKNTQFYFLALVAMRRLLNRIHFHLYNKERVQPPSHSILGELSRQIEEWKACLPVALQFETFPLVEEVGLLSSHPVRPMQQKLRGHLKARYCAAKTILYRSHVYRCLHASAISALSDEDILGAKVAVSSAIIGVLHGGILQEPFGLLLFPINSWRTLFGIEIQIRFILHNEELAGILLPEGWEITHQAREMAAGAASRFSPTIARDCEILRMLS',),\n",
       " ('MNKYSATEMSVSLFSAVGRRRRRRRRHGHRRRRPRGATETSGAGLTESAFWSLSLASHILRSVSNATAVSSWSVSPLRQRHGRFVGAGIEPRPDVAVRRGTRPKPIAKKTAEVQWTDGRGRGCGVGQIPGTLHVSYVLALGDSERTDWRREAVAKKKGEEGWPAGAGAGAALASPIVNAA',),\n",
       " ('MQQSHFEAKMDNVADAGTKYGNNIPSDLVGIVLPTDNYYTEMDGVKTKGYEIEASGEILDGWNIQTGYTHAKSKQNGVKVNTTIPEDQYKLFTTYNLPVLDKKLTIGGGVNWQSAFYNGNVTGVNYIAYKQDQFALVSLMAKYQINRDLSVALNVDNITNEKYRLNTWANTYGDPTSYTGSLTYKF',),\n",
       " ('MTEHYVEYCEINREHPLRQGDILEATAAAALPWNRHLFVVTADCDFAHTKHQGRVTCIPLLRAEEYLLLLQVPKMRERLIKGPLKDLRAVFDTVGRTSISDRRAREWASEQSTAAIVTTLGLDGQESARAQSAIDAIRLMDAPVESLRAAVATLVEAQVLEAGQSKRDKVARSIISELRQVYKSPPGDALFLGAIAPAHEDGYFAYLRHIEQIWEPQIVLSAARQQASYRRISHLKDKFTHALVQRFALVFMSIGLPDEYEEMRDFHSVVLGDSLQ',),\n",
       " ('MKLPPSRTSAKAGSGRSSSSTVADARRICPGFSAAARSSGNARQMRTAASSSRTNPAAAMTNHQRLLIAVGGATAAKEKAPAGARSSRTLSACRKRRASTPH',),\n",
       " ('MQEQQDHDAYAEALVSYRQASNELKKAIGVQKDFEKTSWSAAEAIEDLMLNQDKYALINRFEEAVINKLKAKERL',),\n",
       " ('MGTADWMLTELGANVVHRCIITALLANGSCRRQRGLEACCFARGARQKDSGEIGLDNATPFSLLYPRSVDGIRGRAAEPRGLGEGLQRGLQHAGSSFGLSCVCQLSRAGLHSDSVQVACIRRKIEDEGHGHVFPPKSAQKLVKGAFLSVSDSVQCEKEQLLMAILEIRRPVTTLHEGSVDGMGKTQTANEDSSSNAPGKRVRPSASHVPGVHHLEEPEAPPEHRLSTAAATGEFHLFSGIGQLLAGCWRVVVVN',),\n",
       " ('MASKPYVGLALGYNGGDISWRDDLSINGTKYDVDMDNNNVYLNAEIRPWGASTNRWAQGLYVAAGAAYLDNDYDLTKRSQDGTIKVNGNNYNFNGSVDGKLSYKNDIAPYLGFGFAPKINKNWGVFGEVGAYYTGNPTVNLKSNGTFVNVNGADFDKDLRAEENKIRNDDKYQWLPVGKVGVNFFW',),\n",
       " ('MFQRRVDSNIYAPRQRLESLVSSLSAFETSDPRDVIYSLLDLATETCKLSLSNNLQQRQRIIQRWNPAPEPDYSIDLLHVYTKFTKWCINESHSLDIICRHWALPELKQKPDAQYPELMELPSWIKTGEKSACRSQNEGLSGREIADSLVGLPGNNCYNASNGDLPNIVFRRDKTPQQTEDSPPHILRAQLEVISDMNLTITIRGRSMGVVSEFHPMHGGIIPSKVLPSLGHVTSTEPQDIPDAVWRTLVADRDADGKAVPDWYRRACMECLSSVTDAGDIDTNAILQRCDTATDLRADYLKRAQAVCFNRNHIVCEEGNGKIRKLAGIAALDSKVGDVVCILFGCSVQSLAFSGLSGMRDGVNLSLNITSS',),\n",
       " ('MTAIVGFESLSARPGPFGWTDDMLAEIPEGVRYEIEDGHLIVTPQPIPWHQDAGFIVTAALRENCPRDLIALYECEIRVLNDAGHIVQRRIPDVMVLPRALRERDAERGWIQPNEVPVAAEIVSTGSRVADRITKVGVYAEWGVGLYLRIEREPSVALYEYRLDPVTKTYLTPVEHAEVFETDDPYPIRIELAALR',),\n",
       " ('MIRSDTIWLATEPMDIRADAALARVVAVFGAAKPHCAYLFANRRATRMKVLVHDGIGIGLAARRLN',),\n",
       " ('MDAGKRAVTGSQYGPCRKRAAIPLARAGGGRLASPPVGRAVEASSRPAVSTTKISEKSSASAILPIRTSASIVGKPAANSVTSEARCDHC',),\n",
       " ('MPARPVTRGSKSGVKPPPLKGKPTAKKRTTSSSSSAAPTKKVPRSRTFTGCRTCRSRHLKCDEARPVCSSCRRLNLVCEGYDGQLLWVPDPFCSAEQKHAHRGTSYRYPLFTEEERKTMSVEIVTSMGRQSAGDIVLDLDEKSVRADDAHVAGPFGVFRAFDGSTDSGSSPLQPSVSEGSPNTSPSDALPETMDGELDEDIEDIVIEPWSVDDNSLALEPYLLPGPFDNFSTEGIMGNMSQPWMHGEGPGSLSHMMAMDNSALDLLFSPLSPRTPAMAHTEIVSADDTDTQRQNHDREESHIEEPTSPSADKQDLSILRKLPTPFTNNMPGTESCLPSHAASLLRYYKTMESSSSVKGMRVSPWQLWLLPCALETFAELSLWNTTSHTRHSILCTLLAKSAFHMHQSSNKESQKSTTQWLDIGQNYQKSAQTHLKKALQGESDEPSQAKYNEILMAILATAMVSVLYNGSRAVKIFLLDAERLIRLRGLAMPKSFHVRVLHHVYTHLRVIAESTDIAIDSAKSQAQAATEMAVSLRKFRIAEDSLGADLDLSREKPAEVGYADIHLDVSGHWPVTMYPEIYGVPESLMTLLSQTISFANEKTKLEAMAMYDHRISMALSRHIKQLEQNIWSWSLGSSDMQSGPSRPRELVTQETKLVDHPLIRSLTLAMHQALIIYFYRRVYNMSAMVIQDSVRKTLDFIQPCLEETADDHDFATSIGWAAFIAACEATTPDLQERGLKVLQTIDSSGVIFGTDKPSVLAQSVWDKRTETGDWTLSWPDMMKTIPR',),\n",
       " ('MPPFEREQHLDQADRERPPVRHIASEVQPVVRVDEVQGTTDAAQPAGIDQIIDRVTPALEVGDHMGEPPSGVGRRRAWGRVA',),\n",
       " ('MRRPIFECPQRRLVELLVMASAATAATISVGSTSLSLSNFQLITELSVPLGCLLSYNNPIEGCEATDFGSTGTCSQKCRNGLTRMQSNLQDVCQSVQVQVNTILGQALSGNLVNLLCGALNQQTSSAVQTISTTTIIILPSTTAIAPPPPPPPPATTSVAPPPPPPTTSLSTSTPIILPPSSQAPLPPATTAIPPVSSQAPPIIPPTTIVTSTTTTENLASPQSTSSAPVNPLDALLMNGAMASKPRGGIAWSLPVLAVVMYGIV',),\n",
       " ('MPCLHTVGGQVCGVVHRRPGAAAVVGLCCQTGPAATSGSNQFLLWSTRRFFLIQGIMSRSLAPTTSISCCAVSLRRAVIDG',),\n",
       " ('MKTDPQAPRTKKPAEPSRSGDARQDRDELQPDNPKKWKDVQSAVESELETLHDKARPL',),\n",
       " ('MLSMYSMKFRMLALTGLCLVTTLASVVALNAYQGEVSSDEIRTQSSSLLEVAARDQLIGNGRAQQARIEKKFSDAKLLAQQVALQMGTLRDQYSEGRISAGNLRQDMVKSIHQAIAANPAFLGLYVAFEPNQAGGEDEGFKGKTEFGSNEIGRFSTYYSRYGSATFELAALDEKTINGDQPNASGQPMNYWYSCSKSTLKPCITAPYFDTLNGQTEGLVSLAVPYLEKGKYVGVLVVDLSLTDLQEQSEKLSRDIYDGHSAVSIVSDQGIVAANSASASSAGKLASQVWPGNGAQLKAATFTLGLSAAHDLDNFQLLLPFSPIGESAPWAVKIDVPWDTLMAPADKLADQLDTRRRSGMWESIMFGALLGTLGLLLSAIVIHKSLQPLSVITLMIKEIATGDGDLTKRINYRQPNELGELSGWFNRFLDKLHPLIKEIQASAHQTREAATHASAIAQESRVRLNSQASEVDQVATASTEMAATAQEVARSTASAADAAQDSNLAGTQADRIIVNASQTIQKLSNGMSQNMSQVKALADSSTKISSVLEVIRGIAEQTNLLALNAAIEAARAGEAGRGFAVVADEVRTLARRTQDSVTESQQVIEALQQNTSNVVSAMSESHLLTGTTVEEFAKVGEALQQMSIGVGKINDLTLQIATATEEQSNVADEVSANVSNIRDFTQSLALNGQELETVSIHLDQLAKSLEEKVGHFKV',),\n",
       " ('MWDASSGESRGGAGAGPTAITGLQLEGRLRERNLLKSGSVSGSLSSVTGSVTRERDLEGHLGHLGAHPYHRQSSTSTSQHQLQPQHLHLHQHHTSTSTTTQQIRVHLRGGGSAGQHHQQYQPVQPYQYQVPGQRGGGGPPPAPTSGAASRSRDTIANYNRLRRETQHSSTSTLHHQNYWPDNFRNPRGGLGIEHNNNNNTTRSNSTATNPRNDNQPRTGGIQKLALEESGVAEE',),\n",
       " ('MPTRNPPEPPAPVAAATAAAAPELPIPPQLLQHLRERRLLLFAGAGLSAQAGLPTWRSLVQDVVDATIAETMQGEESRRELESMIAAGKWLQIADHCKLKLGPGEYARLLGERLSDSGRPVPEAHRLAVRLPFAAWVTTNYDKLLERAYAEERGGLPKTLTSLDTEALGRLLFDGAPFVLKAHGDLDKPDSLVFTSRDYRDLIHGNAAFSAAFAAILLTHSVLFVGYSLADPDFNLLLDRQLLTFRGFAPERYALMSGIGKVEEEYLWRVCQIRVIAYPEGRHEAVPAFFQCLADRLAAAPAATSASVARVASVAVATPARRATPAVPVPAAAATPAVLALDWREGAVQAMLSDGGKLVATASGPREAWAAPAAASRALESGSAREGALAECSGALGRTLGPVMVKALANVLQGRRSRLLRLDLTREVERLPWELLAVGSRTLAELAAVYRAPVGVSESARGLPAVASPLRALVVADTKSAEPALALPGAAAEGCALADEIRDSGVGEVRLLLGPDATHDALARAFDDFAPDVFHFAGHAWFDEHEAYLELADRHLTASMMRPWLTRHSPAFMFLNSHYTAFIPAGVEGQGGAHAAAVSAGLRGRPGFADLAMRSGVGAFLGTYSGAIDDSGARDFAVAILRSLLQGATAAAALQAARALAHKQGSGTALLYCLYGEGSLRLADGSG',)]"
      ]
     },
     "execution_count": 125,
     "metadata": {},
     "output_type": "execute_result"
    }
   ],
   "source": [
    "[data[i] for i in range(100)]\n"
   ]
  },
  {
   "cell_type": "code",
   "execution_count": 126,
   "id": "1ad95d9b-4893-45dc-b8a0-82abc26699e8",
   "metadata": {},
   "outputs": [],
   "source": [
    "\n",
    "\n",
    "def fwd_sample(seq, Q=Q, Q_bar=Q_bar, timestep=timestep):\n",
    "    sample = torch.tensor(np.array([tokenizer.tokenize(s) for s in seq])[None, :, 0])\n",
    "    sample = sample.to(torch.long)\n",
    "    sample = sample.to(device)\n",
    "    Q = Q.to(device)\n",
    "    Q_bar = Q_bar.to(device)\n",
    "\n",
    "    timesteps = timestep\n",
    "    timesteps = torch.linspace(1, timesteps-1,int((timesteps-1)/1), dtype=int) # iterate over reverse timesteps\n",
    "    timesteps = timesteps.to(device)\n",
    "    \n",
    "    trace = torch.zeros([timestep, len(sample), sample.shape[1]])\n",
    "    trace[0] = sample\n",
    "    with torch.no_grad():\n",
    "        for t in tqdm(timesteps):\n",
    "            timesteps = torch.tensor([t] * len(sample))\n",
    "            timesteps = timesteps.to(device)\n",
    "            x_tplus1 = sample.clone()\n",
    "            for i, s in enumerate(sample):\n",
    "                x_t_b = tokenizer.one_hot(s)\n",
    "                p_theta_marg = torch.mm(x_t_b, Q[t])  # [P x K]\n",
    "                p_theta_marg = p_theta_marg / p_theta_marg.sum(axis=1, keepdim=True)\n",
    "                x_tplus1[i] = torch.multinomial(p_theta_marg, num_samples=1).squeeze()\n",
    "            sample = x_tplus1\n",
    "            trace[t] = sample\n",
    "    diffs = (trace[1:] != trace[:-1]).cpu().numpy().mean(1).mean(-1)\n",
    "    return diffs"
   ]
  },
  {
   "cell_type": "code",
   "execution_count": 127,
   "id": "e3b81ea5-6892-40a2-8a8a-226b835af213",
   "metadata": {
    "scrolled": true
   },
   "outputs": [
    {
     "name": "stderr",
     "output_type": "stream",
     "text": [
      "100%|███████████████████████████████████████| 499/499 [00:00<00:00, 2271.68it/s]\n",
      "100%|███████████████████████████████████████| 499/499 [00:00<00:00, 2548.00it/s]\n",
      "100%|███████████████████████████████████████| 499/499 [00:00<00:00, 2483.29it/s]\n",
      "100%|███████████████████████████████████████| 499/499 [00:00<00:00, 2545.81it/s]\n",
      "100%|███████████████████████████████████████| 499/499 [00:00<00:00, 2503.00it/s]\n",
      "100%|███████████████████████████████████████| 499/499 [00:00<00:00, 2661.93it/s]\n",
      "100%|███████████████████████████████████████| 499/499 [00:00<00:00, 2493.47it/s]\n",
      "100%|███████████████████████████████████████| 499/499 [00:00<00:00, 2549.10it/s]\n",
      "100%|███████████████████████████████████████| 499/499 [00:00<00:00, 2398.15it/s]\n",
      "100%|███████████████████████████████████████| 499/499 [00:00<00:00, 2585.55it/s]\n",
      "100%|███████████████████████████████████████| 499/499 [00:00<00:00, 2263.79it/s]\n",
      "100%|███████████████████████████████████████| 499/499 [00:00<00:00, 2369.58it/s]\n",
      "100%|███████████████████████████████████████| 499/499 [00:00<00:00, 2636.01it/s]\n",
      "100%|███████████████████████████████████████| 499/499 [00:00<00:00, 2562.87it/s]\n",
      "100%|███████████████████████████████████████| 499/499 [00:00<00:00, 2604.38it/s]\n",
      "100%|███████████████████████████████████████| 499/499 [00:00<00:00, 2407.54it/s]\n",
      "100%|███████████████████████████████████████| 499/499 [00:00<00:00, 2616.81it/s]\n",
      "100%|███████████████████████████████████████| 499/499 [00:00<00:00, 2552.40it/s]\n",
      "100%|███████████████████████████████████████| 499/499 [00:00<00:00, 2624.03it/s]\n",
      "100%|███████████████████████████████████████| 499/499 [00:00<00:00, 2657.71it/s]\n",
      "100%|███████████████████████████████████████| 499/499 [00:00<00:00, 2661.45it/s]\n",
      "100%|███████████████████████████████████████| 499/499 [00:00<00:00, 2543.32it/s]\n",
      "100%|███████████████████████████████████████| 499/499 [00:00<00:00, 2658.86it/s]\n",
      "100%|███████████████████████████████████████| 499/499 [00:00<00:00, 2600.14it/s]\n",
      "100%|███████████████████████████████████████| 499/499 [00:00<00:00, 2578.76it/s]\n",
      "100%|███████████████████████████████████████| 499/499 [00:00<00:00, 2662.90it/s]\n",
      "100%|███████████████████████████████████████| 499/499 [00:00<00:00, 2580.41it/s]\n",
      "100%|███████████████████████████████████████| 499/499 [00:00<00:00, 2387.37it/s]\n",
      "100%|███████████████████████████████████████| 499/499 [00:00<00:00, 2535.00it/s]\n",
      "100%|███████████████████████████████████████| 499/499 [00:00<00:00, 2604.08it/s]\n",
      "100%|███████████████████████████████████████| 499/499 [00:00<00:00, 2544.91it/s]\n",
      "100%|███████████████████████████████████████| 499/499 [00:00<00:00, 2500.55it/s]\n",
      "100%|███████████████████████████████████████| 499/499 [00:00<00:00, 2613.48it/s]\n",
      "100%|███████████████████████████████████████| 499/499 [00:00<00:00, 2442.16it/s]\n",
      "100%|███████████████████████████████████████| 499/499 [00:00<00:00, 2614.83it/s]\n",
      "100%|███████████████████████████████████████| 499/499 [00:00<00:00, 2494.60it/s]\n",
      "100%|███████████████████████████████████████| 499/499 [00:00<00:00, 2676.57it/s]\n",
      "100%|███████████████████████████████████████| 499/499 [00:00<00:00, 2528.07it/s]\n",
      "100%|███████████████████████████████████████| 499/499 [00:00<00:00, 2537.96it/s]\n",
      "100%|███████████████████████████████████████| 499/499 [00:00<00:00, 2607.81it/s]\n",
      "100%|███████████████████████████████████████| 499/499 [00:00<00:00, 2536.63it/s]\n",
      "100%|███████████████████████████████████████| 499/499 [00:00<00:00, 2448.11it/s]\n",
      "100%|███████████████████████████████████████| 499/499 [00:00<00:00, 2370.78it/s]\n",
      "100%|███████████████████████████████████████| 499/499 [00:00<00:00, 2628.87it/s]\n",
      "100%|███████████████████████████████████████| 499/499 [00:00<00:00, 2550.35it/s]\n",
      "100%|███████████████████████████████████████| 499/499 [00:00<00:00, 2432.33it/s]\n",
      "100%|███████████████████████████████████████| 499/499 [00:00<00:00, 2619.15it/s]\n",
      "100%|███████████████████████████████████████| 499/499 [00:00<00:00, 2601.28it/s]\n",
      "100%|███████████████████████████████████████| 499/499 [00:00<00:00, 2624.07it/s]\n",
      "100%|███████████████████████████████████████| 499/499 [00:00<00:00, 2543.18it/s]\n",
      "100%|███████████████████████████████████████| 499/499 [00:00<00:00, 2597.24it/s]\n",
      "100%|███████████████████████████████████████| 499/499 [00:00<00:00, 2577.40it/s]\n",
      "100%|███████████████████████████████████████| 499/499 [00:00<00:00, 2523.41it/s]\n",
      "100%|███████████████████████████████████████| 499/499 [00:00<00:00, 2447.77it/s]\n",
      "100%|███████████████████████████████████████| 499/499 [00:00<00:00, 2615.80it/s]\n",
      "100%|███████████████████████████████████████| 499/499 [00:00<00:00, 2552.84it/s]\n",
      "100%|███████████████████████████████████████| 499/499 [00:00<00:00, 2541.00it/s]\n",
      "100%|███████████████████████████████████████| 499/499 [00:00<00:00, 2524.03it/s]\n",
      "100%|███████████████████████████████████████| 499/499 [00:00<00:00, 2621.94it/s]\n",
      "100%|███████████████████████████████████████| 499/499 [00:00<00:00, 2643.15it/s]\n",
      "100%|███████████████████████████████████████| 499/499 [00:00<00:00, 2437.33it/s]\n",
      "100%|███████████████████████████████████████| 499/499 [00:00<00:00, 2556.53it/s]\n",
      "100%|███████████████████████████████████████| 499/499 [00:00<00:00, 2408.34it/s]\n",
      "100%|███████████████████████████████████████| 499/499 [00:00<00:00, 2521.95it/s]\n",
      "100%|███████████████████████████████████████| 499/499 [00:00<00:00, 2579.37it/s]\n",
      "100%|███████████████████████████████████████| 499/499 [00:00<00:00, 2545.21it/s]\n",
      "100%|███████████████████████████████████████| 499/499 [00:00<00:00, 2600.76it/s]\n",
      "100%|███████████████████████████████████████| 499/499 [00:00<00:00, 2573.83it/s]\n",
      "100%|███████████████████████████████████████| 499/499 [00:00<00:00, 2548.12it/s]\n",
      "100%|███████████████████████████████████████| 499/499 [00:00<00:00, 2566.92it/s]\n",
      "100%|███████████████████████████████████████| 499/499 [00:00<00:00, 2534.20it/s]\n",
      "100%|███████████████████████████████████████| 499/499 [00:00<00:00, 2541.26it/s]\n",
      "100%|███████████████████████████████████████| 499/499 [00:00<00:00, 2531.92it/s]\n",
      "100%|███████████████████████████████████████| 499/499 [00:00<00:00, 2604.30it/s]\n",
      "100%|███████████████████████████████████████| 499/499 [00:00<00:00, 2491.56it/s]\n",
      "100%|███████████████████████████████████████| 499/499 [00:00<00:00, 2638.43it/s]\n",
      "100%|███████████████████████████████████████| 499/499 [00:00<00:00, 2496.01it/s]\n",
      "100%|███████████████████████████████████████| 499/499 [00:00<00:00, 2485.87it/s]\n",
      "100%|███████████████████████████████████████| 499/499 [00:00<00:00, 2613.09it/s]\n",
      "100%|███████████████████████████████████████| 499/499 [00:00<00:00, 2597.41it/s]\n",
      "100%|███████████████████████████████████████| 499/499 [00:00<00:00, 2384.42it/s]\n",
      "100%|███████████████████████████████████████| 499/499 [00:00<00:00, 2530.74it/s]\n",
      "100%|███████████████████████████████████████| 499/499 [00:00<00:00, 2539.95it/s]\n",
      "100%|███████████████████████████████████████| 499/499 [00:00<00:00, 2511.66it/s]\n",
      "100%|███████████████████████████████████████| 499/499 [00:00<00:00, 2559.79it/s]\n",
      "100%|███████████████████████████████████████| 499/499 [00:00<00:00, 2609.45it/s]\n",
      "100%|███████████████████████████████████████| 499/499 [00:00<00:00, 2516.28it/s]\n",
      "100%|███████████████████████████████████████| 499/499 [00:00<00:00, 2567.37it/s]\n",
      "100%|███████████████████████████████████████| 499/499 [00:00<00:00, 2478.27it/s]\n",
      "100%|███████████████████████████████████████| 499/499 [00:00<00:00, 2542.00it/s]\n",
      "100%|███████████████████████████████████████| 499/499 [00:00<00:00, 2618.89it/s]\n",
      "100%|███████████████████████████████████████| 499/499 [00:00<00:00, 2577.68it/s]\n",
      "100%|███████████████████████████████████████| 499/499 [00:00<00:00, 2339.74it/s]\n",
      "100%|███████████████████████████████████████| 499/499 [00:00<00:00, 2604.48it/s]\n",
      "100%|███████████████████████████████████████| 499/499 [00:00<00:00, 2547.26it/s]\n",
      "100%|███████████████████████████████████████| 499/499 [00:00<00:00, 2611.92it/s]\n",
      "100%|███████████████████████████████████████| 499/499 [00:00<00:00, 2639.20it/s]\n",
      "100%|███████████████████████████████████████| 499/499 [00:00<00:00, 2396.36it/s]\n",
      "100%|███████████████████████████████████████| 499/499 [00:00<00:00, 2540.68it/s]\n",
      "100%|███████████████████████████████████████| 499/499 [00:00<00:00, 2381.39it/s]\n"
     ]
    }
   ],
   "source": [
    "diffs_fwd = np.array([fwd_sample(seq[0]) for i, seq in enumerate(data) if i<100]).mean(0)"
   ]
  },
  {
   "cell_type": "code",
   "execution_count": 130,
   "id": "f9011fee-f83c-42dc-ae04-4a3ef0c652a3",
   "metadata": {},
   "outputs": [
    {
     "data": {
      "text/plain": [
       "<matplotlib.legend.Legend at 0x7ff2cbdf0a30>"
      ]
     },
     "execution_count": 130,
     "metadata": {},
     "output_type": "execute_result"
    },
    {
     "data": {
      "image/png": "[encoded data removed]",
      "text/plain": [
       "<Figure size 300x300 with 1 Axes>"
      ]
     },
     "metadata": {},
     "output_type": "display_data"
    }
   ],
   "source": [
    "plt.figure(figsize=[3, 3])\n",
    "plt.semilogy(diffs_bwd, label=\"Backward(empirical)\", color='black', alpha=1)\n",
    "plt.plot(diffs_fwd, label=\"Forward(empirical)\", color='blue', alpha=1)\n",
    "plt.xlabel(\"Timestep\")\n",
    "plt.ylabel(\"p(mut)\")\n",
    "# plt.title(\"Uniform\")\n",
    "plt.legend()"
   ]
  },
  {
   "cell_type": "markdown",
   "id": "2b539bb3-b733-40d9-8776-30cc9f960d85",
   "metadata": {},
   "source": [
    "# Download uniref50"
   ]
  },
  {
   "cell_type": "code",
   "execution_count": 104,
   "id": "1c0b9d61-ed58-43ec-bfa8-da6bd596af60",
   "metadata": {},
   "outputs": [],
   "source": [
    "import requests\n",
    "import json\n",
    "import numpy as np\n",
    "import random\n",
    "from tqdm import tqdm\n",
    "import os\n",
    "\n",
    "def reservoir_sampling(stream, k, max_sequences):\n",
    "    reservoir = []\n",
    "    for i, item in enumerate(stream):\n",
    "        if i >= max_sequences:\n",
    "            break\n",
    "        if i < k:\n",
    "            reservoir.append(item)\n",
    "        else:\n",
    "            j = random.randint(0, i)\n",
    "            if j < k:\n",
    "                reservoir[j] = item\n",
    "        yield i, item\n",
    "\n",
    "def download_uniref50_random_subset(num_sequences=10000, seed=42, data_dir=\"data/uniref50\", max_sequences=1000000):\n",
    "    url = \"https://rest.uniprot.org/uniref/stream?query=identity:0.5&format=fasta\"\n",
    "    random.seed(seed)\n",
    "    \n",
    "    os.makedirs(data_dir, exist_ok=True)\n",
    "    \n",
    "    print(f\"Downloading and sampling {num_sequences} from the first {max_sequences} UniRef50 sequences...\")\n",
    "    response = requests.get(url, stream=True)\n",
    "    \n",
    "    sampled_sequences = []\n",
    "    current_id = \"\"\n",
    "    current_sequence = \"\"\n",
    "    sequence_count = 0\n",
    "    \n",
    "    with tqdm(desc=\"Processing sequences\", unit=\" seq\", total=max_sequences) as pbar:\n",
    "        for i, line in reservoir_sampling((line.decode('utf-8').strip() for line in response.iter_lines()), num_sequences * 2, max_sequences):\n",
    "            if line.startswith(\">\"):\n",
    "                if current_id and current_sequence:\n",
    "                    sampled_sequences.append((current_id, current_sequence))\n",
    "                    current_sequence = \"\"\n",
    "                    sequence_count += 1\n",
    "                    if len(sampled_sequences) >= num_sequences:\n",
    "                        break\n",
    "                current_id = line\n",
    "            else:\n",
    "                current_sequence += line\n",
    "            pbar.update(1)\n",
    "    \n",
    "    if current_id and current_sequence and len(sampled_sequences) < num_sequences:\n",
    "        sampled_sequences.append((current_id, current_sequence))\n",
    "    \n",
    "    print(f\"\\nTotal sequences processed: {sequence_count}\")\n",
    "    print(f\"Sampled sequences: {len(sampled_sequences)}\")\n",
    "    \n",
    "    # Save sequences in FASTA format without line breaks\n",
    "    with open(os.path.join(data_dir, \"consensus.fasta\"), \"w\") as f_out:\n",
    "        for seq_id, seq in sampled_sequences:\n",
    "            f_out.write(f\"{seq_id}\\n{seq}\\n\")\n",
    "    \n",
    "    return sampled_sequences\n",
    "\n",
    "def create_splits_and_metadata(sequences, data_dir=\"data/uniref50\"):\n",
    "    total_sequences = len(sequences)\n",
    "    indices = list(range(total_sequences))\n",
    "    random.shuffle(indices)\n",
    "\n",
    "    train_split = int(0.8 * total_sequences)\n",
    "    valid_split = int(0.9 * total_sequences)\n",
    "\n",
    "    splits = {\n",
    "        \"train\": indices[:train_split],\n",
    "        \"valid\": indices[train_split:valid_split],\n",
    "        \"test\": indices[valid_split:]\n",
    "    }\n",
    "\n",
    "    with open(os.path.join(data_dir, \"splits.json\"), \"w\") as f:\n",
    "        json.dump(splits, f)\n",
    "\n",
    "    # Create lengths_and_offsets.npz\n",
    "    offsets = []\n",
    "    lengths = []\n",
    "    current_offset = 0\n",
    "    \n",
    "    with open(os.path.join(data_dir, \"consensus.fasta\"), \"r\") as f:\n",
    "        while True:\n",
    "            id_line = f.readline()\n",
    "            if not id_line:\n",
    "                break\n",
    "            seq_line = f.readline().strip()\n",
    "            offsets.append(current_offset + len(id_line))\n",
    "            lengths.append(len(seq_line))\n",
    "            current_offset += len(id_line) + len(seq_line) + 1  # +1 for the newline after sequence\n",
    "\n",
    "    np.savez(os.path.join(data_dir, \"lengths_and_offsets.npz\"), \n",
    "             seq_offsets=np.array(offsets), \n",
    "             seq_lengths=np.array(lengths))\n"
   ]
  },
  {
   "cell_type": "code",
   "execution_count": 105,
   "id": "e012bb86-ac06-4ed0-a262-be01bca2f722",
   "metadata": {},
   "outputs": [
    {
     "name": "stdout",
     "output_type": "stream",
     "text": [
      "Downloading UniRef50 dataset...\n",
      "Downloading and sampling 10000 from the first 1000000 UniRef50 sequences...\n"
     ]
    },
    {
     "name": "stderr",
     "output_type": "stream",
     "text": [
      "Processing sequences:   6%|▍       | 61879/1000000 [00:01<00:19, 46919.34 seq/s]"
     ]
    },
    {
     "name": "stdout",
     "output_type": "stream",
     "text": [
      "\n",
      "Total sequences processed: 10000\n",
      "Sampled sequences: 10000\n",
      "Creating splits and metadata...\n",
      "Data preparation complete.\n"
     ]
    },
    {
     "name": "stderr",
     "output_type": "stream",
     "text": [
      "\n"
     ]
    }
   ],
   "source": [
    "print(\"Downloading UniRef50 dataset...\")\n",
    "seqs = download_uniref50_random_subset()\n",
    "\n",
    "print(\"Creating splits and metadata...\")\n",
    "create_splits_and_metadata(seqs)\n",
    "\n",
    "print(\"Data preparation complete.\")"
   ]
  },
  {
   "cell_type": "code",
   "execution_count": null,
   "id": "134f671f-bfc9-4e8b-839a-1220d2caa1d1",
   "metadata": {},
   "outputs": [],
   "source": []
  }
 ],
 "metadata": {
  "kernelspec": {
   "display_name": "evodiff",
   "language": "python",
   "name": "evodiff"
  },
  "language_info": {
   "codemirror_mode": {
    "name": "ipython",
    "version": 3
   },
   "file_extension": ".py",
   "mimetype": "text/x-python",
   "name": "python",
   "nbconvert_exporter": "python",
   "pygments_lexer": "ipython3",
   "version": "3.8.5"
  }
 },
 "nbformat": 4,
 "nbformat_minor": 5
}
